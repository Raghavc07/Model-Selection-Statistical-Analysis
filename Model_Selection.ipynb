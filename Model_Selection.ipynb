{
  "nbformat": 4,
  "nbformat_minor": 0,
  "metadata": {
    "kernelspec": {
      "display_name": "Python 3",
      "language": "python",
      "name": "python3"
    },
    "language_info": {
      "codemirror_mode": {
        "name": "ipython",
        "version": 3
      },
      "file_extension": ".py",
      "mimetype": "text/x-python",
      "name": "python",
      "nbconvert_exporter": "python",
      "pygments_lexer": "ipython3",
      "version": "3.7.6"
    },
    "colab": {
      "provenance": []
    }
  },
  "cells": [
    {
      "cell_type": "markdown",
      "metadata": {
        "id": "Yq0XoVUIVNLC"
      },
      "source": [
        "# Homework 4"
      ]
    },
    {
      "cell_type": "markdown",
      "metadata": {
        "id": "0aqF485OxR-U"
      },
      "source": [
        "**Before you start:** Read Chapter 6 Linear Regression and Chapter 7 K-Nearst-Neighbors in the textbook.\n",
        "\n",
        "**Note:** Please enter the code along with your comments in the **TODO** section.\n",
        "\n",
        "Alternative solutions are welcomed."
      ]
    },
    {
      "cell_type": "markdown",
      "metadata": {
        "id": "QkMxpyKOxR-L"
      },
      "source": [
        "## Part 1: Linear Regression"
      ]
    },
    {
      "cell_type": "markdown",
      "metadata": {
        "id": "3IKYRqKtxR-N"
      },
      "source": [
        "### Problem 1 ##"
      ]
    },
    {
      "cell_type": "markdown",
      "metadata": {
        "id": "H8fENJRPk7P7"
      },
      "source": [
        "In this problem, you are expected to build a model to predict the Boston housing price.\n"
      ]
    },
    {
      "cell_type": "code",
      "metadata": {
        "id": "-aISISDbDVKG"
      },
      "source": [
        "from sklearn import datasets\n",
        "import pandas as pd\n",
        "import numpy as np\n",
        "import seaborn as sns\n",
        "import matplotlib.pyplot as plt\n",
        "np.set_printoptions(suppress=True)\n",
        "from sklearn.model_selection import train_test_split\n",
        "from sklearn import linear_model\n",
        "from sklearn.linear_model import LinearRegression\n",
        "from sklearn.metrics import mean_squared_error\n",
        "from sklearn.metrics import r2_score\n",
        "from sklearn.linear_model import Lasso\n",
        "import sklearn\n"
      ],
      "execution_count": 1,
      "outputs": []
    },
    {
      "cell_type": "code",
      "source": [
        "import pandas as pd\n",
        "import numpy as np\n",
        "import urllib.request\n",
        "# Load boston housing dataset\n",
        "url = 'https://archive.ics.uci.edu/ml/machine-learning-databases/housing/housing.data'\n",
        "filename = 'housing.csv'\n",
        "urllib.request.urlretrieve(url, filename)"
      ],
      "metadata": {
        "colab": {
          "base_uri": "https://localhost:8080/"
        },
        "id": "V-P5lB-VXqmo",
        "outputId": "55e19276-2f1c-4823-f61d-f77c1bc2aa82"
      },
      "execution_count": 2,
      "outputs": [
        {
          "output_type": "execute_result",
          "data": {
            "text/plain": [
              "('housing.csv', <http.client.HTTPMessage at 0x7f32d1409cd0>)"
            ]
          },
          "metadata": {},
          "execution_count": 2
        }
      ]
    },
    {
      "cell_type": "code",
      "source": [
        "boston_housing = pd.read_csv(filename, header=None, delim_whitespace=True)"
      ],
      "metadata": {
        "id": "vk_7CEwHirYa"
      },
      "execution_count": 3,
      "outputs": []
    },
    {
      "cell_type": "code",
      "metadata": {
        "id": "vp1m53zhwdu2"
      },
      "source": [
        "boston_housing.columns = ['CRIM', 'ZN', 'INDUS', 'CHAS', 'NOX', 'RM', 'AGE',\n",
        "'DIS', 'RAD', 'TAX', 'PTRATIO', 'B', 'LSTAT', 'target']\n",
        "X = pd.DataFrame(boston_housing)"
      ],
      "execution_count": 4,
      "outputs": []
    },
    {
      "cell_type": "code",
      "source": [
        "#\"target\" is the response variable\n",
        "# which represents the median value of owner-occupied homes in $1000\n",
        "y = boston_housing['target']"
      ],
      "metadata": {
        "id": "2CbamJnAi5HJ"
      },
      "execution_count": 5,
      "outputs": []
    },
    {
      "cell_type": "code",
      "metadata": {
        "id": "koZ7LZPkZ5bq"
      },
      "source": [
        "X['target'] = y"
      ],
      "execution_count": 6,
      "outputs": []
    },
    {
      "cell_type": "code",
      "metadata": {
        "colab": {
          "base_uri": "https://localhost:8080/",
          "height": 206
        },
        "id": "X1ki8-fqZ_Sc",
        "outputId": "5ba9d2af-506e-488f-dac5-8146122c556c"
      },
      "source": [
        "X.head() "
      ],
      "execution_count": 7,
      "outputs": [
        {
          "output_type": "execute_result",
          "data": {
            "text/plain": [
              "      CRIM    ZN  INDUS  CHAS    NOX     RM   AGE     DIS  RAD    TAX  \\\n",
              "0  0.00632  18.0   2.31     0  0.538  6.575  65.2  4.0900    1  296.0   \n",
              "1  0.02731   0.0   7.07     0  0.469  6.421  78.9  4.9671    2  242.0   \n",
              "2  0.02729   0.0   7.07     0  0.469  7.185  61.1  4.9671    2  242.0   \n",
              "3  0.03237   0.0   2.18     0  0.458  6.998  45.8  6.0622    3  222.0   \n",
              "4  0.06905   0.0   2.18     0  0.458  7.147  54.2  6.0622    3  222.0   \n",
              "\n",
              "   PTRATIO       B  LSTAT  target  \n",
              "0     15.3  396.90   4.98    24.0  \n",
              "1     17.8  396.90   9.14    21.6  \n",
              "2     17.8  392.83   4.03    34.7  \n",
              "3     18.7  394.63   2.94    33.4  \n",
              "4     18.7  396.90   5.33    36.2  "
            ],
            "text/html": [
              "\n",
              "  <div id=\"df-67897204-af06-42f6-a664-d3a72cd82eff\">\n",
              "    <div class=\"colab-df-container\">\n",
              "      <div>\n",
              "<style scoped>\n",
              "    .dataframe tbody tr th:only-of-type {\n",
              "        vertical-align: middle;\n",
              "    }\n",
              "\n",
              "    .dataframe tbody tr th {\n",
              "        vertical-align: top;\n",
              "    }\n",
              "\n",
              "    .dataframe thead th {\n",
              "        text-align: right;\n",
              "    }\n",
              "</style>\n",
              "<table border=\"1\" class=\"dataframe\">\n",
              "  <thead>\n",
              "    <tr style=\"text-align: right;\">\n",
              "      <th></th>\n",
              "      <th>CRIM</th>\n",
              "      <th>ZN</th>\n",
              "      <th>INDUS</th>\n",
              "      <th>CHAS</th>\n",
              "      <th>NOX</th>\n",
              "      <th>RM</th>\n",
              "      <th>AGE</th>\n",
              "      <th>DIS</th>\n",
              "      <th>RAD</th>\n",
              "      <th>TAX</th>\n",
              "      <th>PTRATIO</th>\n",
              "      <th>B</th>\n",
              "      <th>LSTAT</th>\n",
              "      <th>target</th>\n",
              "    </tr>\n",
              "  </thead>\n",
              "  <tbody>\n",
              "    <tr>\n",
              "      <th>0</th>\n",
              "      <td>0.00632</td>\n",
              "      <td>18.0</td>\n",
              "      <td>2.31</td>\n",
              "      <td>0</td>\n",
              "      <td>0.538</td>\n",
              "      <td>6.575</td>\n",
              "      <td>65.2</td>\n",
              "      <td>4.0900</td>\n",
              "      <td>1</td>\n",
              "      <td>296.0</td>\n",
              "      <td>15.3</td>\n",
              "      <td>396.90</td>\n",
              "      <td>4.98</td>\n",
              "      <td>24.0</td>\n",
              "    </tr>\n",
              "    <tr>\n",
              "      <th>1</th>\n",
              "      <td>0.02731</td>\n",
              "      <td>0.0</td>\n",
              "      <td>7.07</td>\n",
              "      <td>0</td>\n",
              "      <td>0.469</td>\n",
              "      <td>6.421</td>\n",
              "      <td>78.9</td>\n",
              "      <td>4.9671</td>\n",
              "      <td>2</td>\n",
              "      <td>242.0</td>\n",
              "      <td>17.8</td>\n",
              "      <td>396.90</td>\n",
              "      <td>9.14</td>\n",
              "      <td>21.6</td>\n",
              "    </tr>\n",
              "    <tr>\n",
              "      <th>2</th>\n",
              "      <td>0.02729</td>\n",
              "      <td>0.0</td>\n",
              "      <td>7.07</td>\n",
              "      <td>0</td>\n",
              "      <td>0.469</td>\n",
              "      <td>7.185</td>\n",
              "      <td>61.1</td>\n",
              "      <td>4.9671</td>\n",
              "      <td>2</td>\n",
              "      <td>242.0</td>\n",
              "      <td>17.8</td>\n",
              "      <td>392.83</td>\n",
              "      <td>4.03</td>\n",
              "      <td>34.7</td>\n",
              "    </tr>\n",
              "    <tr>\n",
              "      <th>3</th>\n",
              "      <td>0.03237</td>\n",
              "      <td>0.0</td>\n",
              "      <td>2.18</td>\n",
              "      <td>0</td>\n",
              "      <td>0.458</td>\n",
              "      <td>6.998</td>\n",
              "      <td>45.8</td>\n",
              "      <td>6.0622</td>\n",
              "      <td>3</td>\n",
              "      <td>222.0</td>\n",
              "      <td>18.7</td>\n",
              "      <td>394.63</td>\n",
              "      <td>2.94</td>\n",
              "      <td>33.4</td>\n",
              "    </tr>\n",
              "    <tr>\n",
              "      <th>4</th>\n",
              "      <td>0.06905</td>\n",
              "      <td>0.0</td>\n",
              "      <td>2.18</td>\n",
              "      <td>0</td>\n",
              "      <td>0.458</td>\n",
              "      <td>7.147</td>\n",
              "      <td>54.2</td>\n",
              "      <td>6.0622</td>\n",
              "      <td>3</td>\n",
              "      <td>222.0</td>\n",
              "      <td>18.7</td>\n",
              "      <td>396.90</td>\n",
              "      <td>5.33</td>\n",
              "      <td>36.2</td>\n",
              "    </tr>\n",
              "  </tbody>\n",
              "</table>\n",
              "</div>\n",
              "      <button class=\"colab-df-convert\" onclick=\"convertToInteractive('df-67897204-af06-42f6-a664-d3a72cd82eff')\"\n",
              "              title=\"Convert this dataframe to an interactive table.\"\n",
              "              style=\"display:none;\">\n",
              "        \n",
              "  <svg xmlns=\"http://www.w3.org/2000/svg\" height=\"24px\"viewBox=\"0 0 24 24\"\n",
              "       width=\"24px\">\n",
              "    <path d=\"M0 0h24v24H0V0z\" fill=\"none\"/>\n",
              "    <path d=\"M18.56 5.44l.94 2.06.94-2.06 2.06-.94-2.06-.94-.94-2.06-.94 2.06-2.06.94zm-11 1L8.5 8.5l.94-2.06 2.06-.94-2.06-.94L8.5 2.5l-.94 2.06-2.06.94zm10 10l.94 2.06.94-2.06 2.06-.94-2.06-.94-.94-2.06-.94 2.06-2.06.94z\"/><path d=\"M17.41 7.96l-1.37-1.37c-.4-.4-.92-.59-1.43-.59-.52 0-1.04.2-1.43.59L10.3 9.45l-7.72 7.72c-.78.78-.78 2.05 0 2.83L4 21.41c.39.39.9.59 1.41.59.51 0 1.02-.2 1.41-.59l7.78-7.78 2.81-2.81c.8-.78.8-2.07 0-2.86zM5.41 20L4 18.59l7.72-7.72 1.47 1.35L5.41 20z\"/>\n",
              "  </svg>\n",
              "      </button>\n",
              "      \n",
              "  <style>\n",
              "    .colab-df-container {\n",
              "      display:flex;\n",
              "      flex-wrap:wrap;\n",
              "      gap: 12px;\n",
              "    }\n",
              "\n",
              "    .colab-df-convert {\n",
              "      background-color: #E8F0FE;\n",
              "      border: none;\n",
              "      border-radius: 50%;\n",
              "      cursor: pointer;\n",
              "      display: none;\n",
              "      fill: #1967D2;\n",
              "      height: 32px;\n",
              "      padding: 0 0 0 0;\n",
              "      width: 32px;\n",
              "    }\n",
              "\n",
              "    .colab-df-convert:hover {\n",
              "      background-color: #E2EBFA;\n",
              "      box-shadow: 0px 1px 2px rgba(60, 64, 67, 0.3), 0px 1px 3px 1px rgba(60, 64, 67, 0.15);\n",
              "      fill: #174EA6;\n",
              "    }\n",
              "\n",
              "    [theme=dark] .colab-df-convert {\n",
              "      background-color: #3B4455;\n",
              "      fill: #D2E3FC;\n",
              "    }\n",
              "\n",
              "    [theme=dark] .colab-df-convert:hover {\n",
              "      background-color: #434B5C;\n",
              "      box-shadow: 0px 1px 3px 1px rgba(0, 0, 0, 0.15);\n",
              "      filter: drop-shadow(0px 1px 2px rgba(0, 0, 0, 0.3));\n",
              "      fill: #FFFFFF;\n",
              "    }\n",
              "  </style>\n",
              "\n",
              "      <script>\n",
              "        const buttonEl =\n",
              "          document.querySelector('#df-67897204-af06-42f6-a664-d3a72cd82eff button.colab-df-convert');\n",
              "        buttonEl.style.display =\n",
              "          google.colab.kernel.accessAllowed ? 'block' : 'none';\n",
              "\n",
              "        async function convertToInteractive(key) {\n",
              "          const element = document.querySelector('#df-67897204-af06-42f6-a664-d3a72cd82eff');\n",
              "          const dataTable =\n",
              "            await google.colab.kernel.invokeFunction('convertToInteractive',\n",
              "                                                     [key], {});\n",
              "          if (!dataTable) return;\n",
              "\n",
              "          const docLinkHtml = 'Like what you see? Visit the ' +\n",
              "            '<a target=\"_blank\" href=https://colab.research.google.com/notebooks/data_table.ipynb>data table notebook</a>'\n",
              "            + ' to learn more about interactive tables.';\n",
              "          element.innerHTML = '';\n",
              "          dataTable['output_type'] = 'display_data';\n",
              "          await google.colab.output.renderOutput(dataTable, element);\n",
              "          const docLink = document.createElement('div');\n",
              "          docLink.innerHTML = docLinkHtml;\n",
              "          element.appendChild(docLink);\n",
              "        }\n",
              "      </script>\n",
              "    </div>\n",
              "  </div>\n",
              "  "
            ]
          },
          "metadata": {},
          "execution_count": 7
        }
      ]
    },
    {
      "cell_type": "code",
      "source": [
        "data = X\n",
        "data['target'] = y"
      ],
      "metadata": {
        "id": "p15CJjwzYXs2"
      },
      "execution_count": 8,
      "outputs": []
    },
    {
      "cell_type": "code",
      "source": [
        "data.head()"
      ],
      "metadata": {
        "colab": {
          "base_uri": "https://localhost:8080/",
          "height": 206
        },
        "id": "K_abzpmDYbEQ",
        "outputId": "20adce48-e12a-40e1-a311-b2802d4fd736"
      },
      "execution_count": 9,
      "outputs": [
        {
          "output_type": "execute_result",
          "data": {
            "text/plain": [
              "      CRIM    ZN  INDUS  CHAS    NOX     RM   AGE     DIS  RAD    TAX  \\\n",
              "0  0.00632  18.0   2.31     0  0.538  6.575  65.2  4.0900    1  296.0   \n",
              "1  0.02731   0.0   7.07     0  0.469  6.421  78.9  4.9671    2  242.0   \n",
              "2  0.02729   0.0   7.07     0  0.469  7.185  61.1  4.9671    2  242.0   \n",
              "3  0.03237   0.0   2.18     0  0.458  6.998  45.8  6.0622    3  222.0   \n",
              "4  0.06905   0.0   2.18     0  0.458  7.147  54.2  6.0622    3  222.0   \n",
              "\n",
              "   PTRATIO       B  LSTAT  target  \n",
              "0     15.3  396.90   4.98    24.0  \n",
              "1     17.8  396.90   9.14    21.6  \n",
              "2     17.8  392.83   4.03    34.7  \n",
              "3     18.7  394.63   2.94    33.4  \n",
              "4     18.7  396.90   5.33    36.2  "
            ],
            "text/html": [
              "\n",
              "  <div id=\"df-6e049c97-c418-476f-ac27-c50078dbeb29\">\n",
              "    <div class=\"colab-df-container\">\n",
              "      <div>\n",
              "<style scoped>\n",
              "    .dataframe tbody tr th:only-of-type {\n",
              "        vertical-align: middle;\n",
              "    }\n",
              "\n",
              "    .dataframe tbody tr th {\n",
              "        vertical-align: top;\n",
              "    }\n",
              "\n",
              "    .dataframe thead th {\n",
              "        text-align: right;\n",
              "    }\n",
              "</style>\n",
              "<table border=\"1\" class=\"dataframe\">\n",
              "  <thead>\n",
              "    <tr style=\"text-align: right;\">\n",
              "      <th></th>\n",
              "      <th>CRIM</th>\n",
              "      <th>ZN</th>\n",
              "      <th>INDUS</th>\n",
              "      <th>CHAS</th>\n",
              "      <th>NOX</th>\n",
              "      <th>RM</th>\n",
              "      <th>AGE</th>\n",
              "      <th>DIS</th>\n",
              "      <th>RAD</th>\n",
              "      <th>TAX</th>\n",
              "      <th>PTRATIO</th>\n",
              "      <th>B</th>\n",
              "      <th>LSTAT</th>\n",
              "      <th>target</th>\n",
              "    </tr>\n",
              "  </thead>\n",
              "  <tbody>\n",
              "    <tr>\n",
              "      <th>0</th>\n",
              "      <td>0.00632</td>\n",
              "      <td>18.0</td>\n",
              "      <td>2.31</td>\n",
              "      <td>0</td>\n",
              "      <td>0.538</td>\n",
              "      <td>6.575</td>\n",
              "      <td>65.2</td>\n",
              "      <td>4.0900</td>\n",
              "      <td>1</td>\n",
              "      <td>296.0</td>\n",
              "      <td>15.3</td>\n",
              "      <td>396.90</td>\n",
              "      <td>4.98</td>\n",
              "      <td>24.0</td>\n",
              "    </tr>\n",
              "    <tr>\n",
              "      <th>1</th>\n",
              "      <td>0.02731</td>\n",
              "      <td>0.0</td>\n",
              "      <td>7.07</td>\n",
              "      <td>0</td>\n",
              "      <td>0.469</td>\n",
              "      <td>6.421</td>\n",
              "      <td>78.9</td>\n",
              "      <td>4.9671</td>\n",
              "      <td>2</td>\n",
              "      <td>242.0</td>\n",
              "      <td>17.8</td>\n",
              "      <td>396.90</td>\n",
              "      <td>9.14</td>\n",
              "      <td>21.6</td>\n",
              "    </tr>\n",
              "    <tr>\n",
              "      <th>2</th>\n",
              "      <td>0.02729</td>\n",
              "      <td>0.0</td>\n",
              "      <td>7.07</td>\n",
              "      <td>0</td>\n",
              "      <td>0.469</td>\n",
              "      <td>7.185</td>\n",
              "      <td>61.1</td>\n",
              "      <td>4.9671</td>\n",
              "      <td>2</td>\n",
              "      <td>242.0</td>\n",
              "      <td>17.8</td>\n",
              "      <td>392.83</td>\n",
              "      <td>4.03</td>\n",
              "      <td>34.7</td>\n",
              "    </tr>\n",
              "    <tr>\n",
              "      <th>3</th>\n",
              "      <td>0.03237</td>\n",
              "      <td>0.0</td>\n",
              "      <td>2.18</td>\n",
              "      <td>0</td>\n",
              "      <td>0.458</td>\n",
              "      <td>6.998</td>\n",
              "      <td>45.8</td>\n",
              "      <td>6.0622</td>\n",
              "      <td>3</td>\n",
              "      <td>222.0</td>\n",
              "      <td>18.7</td>\n",
              "      <td>394.63</td>\n",
              "      <td>2.94</td>\n",
              "      <td>33.4</td>\n",
              "    </tr>\n",
              "    <tr>\n",
              "      <th>4</th>\n",
              "      <td>0.06905</td>\n",
              "      <td>0.0</td>\n",
              "      <td>2.18</td>\n",
              "      <td>0</td>\n",
              "      <td>0.458</td>\n",
              "      <td>7.147</td>\n",
              "      <td>54.2</td>\n",
              "      <td>6.0622</td>\n",
              "      <td>3</td>\n",
              "      <td>222.0</td>\n",
              "      <td>18.7</td>\n",
              "      <td>396.90</td>\n",
              "      <td>5.33</td>\n",
              "      <td>36.2</td>\n",
              "    </tr>\n",
              "  </tbody>\n",
              "</table>\n",
              "</div>\n",
              "      <button class=\"colab-df-convert\" onclick=\"convertToInteractive('df-6e049c97-c418-476f-ac27-c50078dbeb29')\"\n",
              "              title=\"Convert this dataframe to an interactive table.\"\n",
              "              style=\"display:none;\">\n",
              "        \n",
              "  <svg xmlns=\"http://www.w3.org/2000/svg\" height=\"24px\"viewBox=\"0 0 24 24\"\n",
              "       width=\"24px\">\n",
              "    <path d=\"M0 0h24v24H0V0z\" fill=\"none\"/>\n",
              "    <path d=\"M18.56 5.44l.94 2.06.94-2.06 2.06-.94-2.06-.94-.94-2.06-.94 2.06-2.06.94zm-11 1L8.5 8.5l.94-2.06 2.06-.94-2.06-.94L8.5 2.5l-.94 2.06-2.06.94zm10 10l.94 2.06.94-2.06 2.06-.94-2.06-.94-.94-2.06-.94 2.06-2.06.94z\"/><path d=\"M17.41 7.96l-1.37-1.37c-.4-.4-.92-.59-1.43-.59-.52 0-1.04.2-1.43.59L10.3 9.45l-7.72 7.72c-.78.78-.78 2.05 0 2.83L4 21.41c.39.39.9.59 1.41.59.51 0 1.02-.2 1.41-.59l7.78-7.78 2.81-2.81c.8-.78.8-2.07 0-2.86zM5.41 20L4 18.59l7.72-7.72 1.47 1.35L5.41 20z\"/>\n",
              "  </svg>\n",
              "      </button>\n",
              "      \n",
              "  <style>\n",
              "    .colab-df-container {\n",
              "      display:flex;\n",
              "      flex-wrap:wrap;\n",
              "      gap: 12px;\n",
              "    }\n",
              "\n",
              "    .colab-df-convert {\n",
              "      background-color: #E8F0FE;\n",
              "      border: none;\n",
              "      border-radius: 50%;\n",
              "      cursor: pointer;\n",
              "      display: none;\n",
              "      fill: #1967D2;\n",
              "      height: 32px;\n",
              "      padding: 0 0 0 0;\n",
              "      width: 32px;\n",
              "    }\n",
              "\n",
              "    .colab-df-convert:hover {\n",
              "      background-color: #E2EBFA;\n",
              "      box-shadow: 0px 1px 2px rgba(60, 64, 67, 0.3), 0px 1px 3px 1px rgba(60, 64, 67, 0.15);\n",
              "      fill: #174EA6;\n",
              "    }\n",
              "\n",
              "    [theme=dark] .colab-df-convert {\n",
              "      background-color: #3B4455;\n",
              "      fill: #D2E3FC;\n",
              "    }\n",
              "\n",
              "    [theme=dark] .colab-df-convert:hover {\n",
              "      background-color: #434B5C;\n",
              "      box-shadow: 0px 1px 3px 1px rgba(0, 0, 0, 0.15);\n",
              "      filter: drop-shadow(0px 1px 2px rgba(0, 0, 0, 0.3));\n",
              "      fill: #FFFFFF;\n",
              "    }\n",
              "  </style>\n",
              "\n",
              "      <script>\n",
              "        const buttonEl =\n",
              "          document.querySelector('#df-6e049c97-c418-476f-ac27-c50078dbeb29 button.colab-df-convert');\n",
              "        buttonEl.style.display =\n",
              "          google.colab.kernel.accessAllowed ? 'block' : 'none';\n",
              "\n",
              "        async function convertToInteractive(key) {\n",
              "          const element = document.querySelector('#df-6e049c97-c418-476f-ac27-c50078dbeb29');\n",
              "          const dataTable =\n",
              "            await google.colab.kernel.invokeFunction('convertToInteractive',\n",
              "                                                     [key], {});\n",
              "          if (!dataTable) return;\n",
              "\n",
              "          const docLinkHtml = 'Like what you see? Visit the ' +\n",
              "            '<a target=\"_blank\" href=https://colab.research.google.com/notebooks/data_table.ipynb>data table notebook</a>'\n",
              "            + ' to learn more about interactive tables.';\n",
              "          element.innerHTML = '';\n",
              "          dataTable['output_type'] = 'display_data';\n",
              "          await google.colab.output.renderOutput(dataTable, element);\n",
              "          const docLink = document.createElement('div');\n",
              "          docLink.innerHTML = docLinkHtml;\n",
              "          element.appendChild(docLink);\n",
              "        }\n",
              "      </script>\n",
              "    </div>\n",
              "  </div>\n",
              "  "
            ]
          },
          "metadata": {},
          "execution_count": 9
        }
      ]
    },
    {
      "cell_type": "markdown",
      "metadata": {
        "id": "orhex-OXhkgV"
      },
      "source": [
        "\n",
        "**TODO 1**\n",
        "\n",
        "Prevent collinearity by removing linearly dependent variables. \n",
        "\n",
        "For example, if 2 variables A and B have a correlation coefficient larger than 0.9, eliminate one to avoid redundency."
      ]
    },
    {
      "cell_type": "code",
      "metadata": {
        "id": "HciIg1g4jE_a",
        "colab": {
          "base_uri": "https://localhost:8080/",
          "height": 596
        },
        "outputId": "a6bec7ff-9d47-4b9a-deae-68e17b6a63ee"
      },
      "source": [
        "#Correlation Heatmap to remove linearly dependent variables with corr-coeff more than 0.9\n",
        "plt.figure(figsize=(18,10))\n",
        "corr=X.corr()\n",
        "ax=sns.heatmap(corr,square=True, annot=True, vmax=1, vmin=-1)"
      ],
      "execution_count": 10,
      "outputs": [
        {
          "output_type": "display_data",
          "data": {
            "text/plain": [
              "<Figure size 1296x720 with 2 Axes>"
            ],
            "image/png": "[encoded data removed]"
          },
          "metadata": {
            "needs_background": "light"
          }
        }
      ]
    },
    {
      "cell_type": "code",
      "source": [
        "X1 = X.drop(['RAD'], axis=1)\n",
        "X1.head()"
      ],
      "metadata": {
        "colab": {
          "base_uri": "https://localhost:8080/",
          "height": 206
        },
        "id": "Iq8gmRr1YjP1",
        "outputId": "dd43dfe4-096c-4d47-a27a-16c14f9ac8e8"
      },
      "execution_count": 11,
      "outputs": [
        {
          "output_type": "execute_result",
          "data": {
            "text/plain": [
              "      CRIM    ZN  INDUS  CHAS    NOX     RM   AGE     DIS    TAX  PTRATIO  \\\n",
              "0  0.00632  18.0   2.31     0  0.538  6.575  65.2  4.0900  296.0     15.3   \n",
              "1  0.02731   0.0   7.07     0  0.469  6.421  78.9  4.9671  242.0     17.8   \n",
              "2  0.02729   0.0   7.07     0  0.469  7.185  61.1  4.9671  242.0     17.8   \n",
              "3  0.03237   0.0   2.18     0  0.458  6.998  45.8  6.0622  222.0     18.7   \n",
              "4  0.06905   0.0   2.18     0  0.458  7.147  54.2  6.0622  222.0     18.7   \n",
              "\n",
              "        B  LSTAT  target  \n",
              "0  396.90   4.98    24.0  \n",
              "1  396.90   9.14    21.6  \n",
              "2  392.83   4.03    34.7  \n",
              "3  394.63   2.94    33.4  \n",
              "4  396.90   5.33    36.2  "
            ],
            "text/html": [
              "\n",
              "  <div id=\"df-946c0d44-5fd6-4039-8215-a41f2f52498b\">\n",
              "    <div class=\"colab-df-container\">\n",
              "      <div>\n",
              "<style scoped>\n",
              "    .dataframe tbody tr th:only-of-type {\n",
              "        vertical-align: middle;\n",
              "    }\n",
              "\n",
              "    .dataframe tbody tr th {\n",
              "        vertical-align: top;\n",
              "    }\n",
              "\n",
              "    .dataframe thead th {\n",
              "        text-align: right;\n",
              "    }\n",
              "</style>\n",
              "<table border=\"1\" class=\"dataframe\">\n",
              "  <thead>\n",
              "    <tr style=\"text-align: right;\">\n",
              "      <th></th>\n",
              "      <th>CRIM</th>\n",
              "      <th>ZN</th>\n",
              "      <th>INDUS</th>\n",
              "      <th>CHAS</th>\n",
              "      <th>NOX</th>\n",
              "      <th>RM</th>\n",
              "      <th>AGE</th>\n",
              "      <th>DIS</th>\n",
              "      <th>TAX</th>\n",
              "      <th>PTRATIO</th>\n",
              "      <th>B</th>\n",
              "      <th>LSTAT</th>\n",
              "      <th>target</th>\n",
              "    </tr>\n",
              "  </thead>\n",
              "  <tbody>\n",
              "    <tr>\n",
              "      <th>0</th>\n",
              "      <td>0.00632</td>\n",
              "      <td>18.0</td>\n",
              "      <td>2.31</td>\n",
              "      <td>0</td>\n",
              "      <td>0.538</td>\n",
              "      <td>6.575</td>\n",
              "      <td>65.2</td>\n",
              "      <td>4.0900</td>\n",
              "      <td>296.0</td>\n",
              "      <td>15.3</td>\n",
              "      <td>396.90</td>\n",
              "      <td>4.98</td>\n",
              "      <td>24.0</td>\n",
              "    </tr>\n",
              "    <tr>\n",
              "      <th>1</th>\n",
              "      <td>0.02731</td>\n",
              "      <td>0.0</td>\n",
              "      <td>7.07</td>\n",
              "      <td>0</td>\n",
              "      <td>0.469</td>\n",
              "      <td>6.421</td>\n",
              "      <td>78.9</td>\n",
              "      <td>4.9671</td>\n",
              "      <td>242.0</td>\n",
              "      <td>17.8</td>\n",
              "      <td>396.90</td>\n",
              "      <td>9.14</td>\n",
              "      <td>21.6</td>\n",
              "    </tr>\n",
              "    <tr>\n",
              "      <th>2</th>\n",
              "      <td>0.02729</td>\n",
              "      <td>0.0</td>\n",
              "      <td>7.07</td>\n",
              "      <td>0</td>\n",
              "      <td>0.469</td>\n",
              "      <td>7.185</td>\n",
              "      <td>61.1</td>\n",
              "      <td>4.9671</td>\n",
              "      <td>242.0</td>\n",
              "      <td>17.8</td>\n",
              "      <td>392.83</td>\n",
              "      <td>4.03</td>\n",
              "      <td>34.7</td>\n",
              "    </tr>\n",
              "    <tr>\n",
              "      <th>3</th>\n",
              "      <td>0.03237</td>\n",
              "      <td>0.0</td>\n",
              "      <td>2.18</td>\n",
              "      <td>0</td>\n",
              "      <td>0.458</td>\n",
              "      <td>6.998</td>\n",
              "      <td>45.8</td>\n",
              "      <td>6.0622</td>\n",
              "      <td>222.0</td>\n",
              "      <td>18.7</td>\n",
              "      <td>394.63</td>\n",
              "      <td>2.94</td>\n",
              "      <td>33.4</td>\n",
              "    </tr>\n",
              "    <tr>\n",
              "      <th>4</th>\n",
              "      <td>0.06905</td>\n",
              "      <td>0.0</td>\n",
              "      <td>2.18</td>\n",
              "      <td>0</td>\n",
              "      <td>0.458</td>\n",
              "      <td>7.147</td>\n",
              "      <td>54.2</td>\n",
              "      <td>6.0622</td>\n",
              "      <td>222.0</td>\n",
              "      <td>18.7</td>\n",
              "      <td>396.90</td>\n",
              "      <td>5.33</td>\n",
              "      <td>36.2</td>\n",
              "    </tr>\n",
              "  </tbody>\n",
              "</table>\n",
              "</div>\n",
              "      <button class=\"colab-df-convert\" onclick=\"convertToInteractive('df-946c0d44-5fd6-4039-8215-a41f2f52498b')\"\n",
              "              title=\"Convert this dataframe to an interactive table.\"\n",
              "              style=\"display:none;\">\n",
              "        \n",
              "  <svg xmlns=\"http://www.w3.org/2000/svg\" height=\"24px\"viewBox=\"0 0 24 24\"\n",
              "       width=\"24px\">\n",
              "    <path d=\"M0 0h24v24H0V0z\" fill=\"none\"/>\n",
              "    <path d=\"M18.56 5.44l.94 2.06.94-2.06 2.06-.94-2.06-.94-.94-2.06-.94 2.06-2.06.94zm-11 1L8.5 8.5l.94-2.06 2.06-.94-2.06-.94L8.5 2.5l-.94 2.06-2.06.94zm10 10l.94 2.06.94-2.06 2.06-.94-2.06-.94-.94-2.06-.94 2.06-2.06.94z\"/><path d=\"M17.41 7.96l-1.37-1.37c-.4-.4-.92-.59-1.43-.59-.52 0-1.04.2-1.43.59L10.3 9.45l-7.72 7.72c-.78.78-.78 2.05 0 2.83L4 21.41c.39.39.9.59 1.41.59.51 0 1.02-.2 1.41-.59l7.78-7.78 2.81-2.81c.8-.78.8-2.07 0-2.86zM5.41 20L4 18.59l7.72-7.72 1.47 1.35L5.41 20z\"/>\n",
              "  </svg>\n",
              "      </button>\n",
              "      \n",
              "  <style>\n",
              "    .colab-df-container {\n",
              "      display:flex;\n",
              "      flex-wrap:wrap;\n",
              "      gap: 12px;\n",
              "    }\n",
              "\n",
              "    .colab-df-convert {\n",
              "      background-color: #E8F0FE;\n",
              "      border: none;\n",
              "      border-radius: 50%;\n",
              "      cursor: pointer;\n",
              "      display: none;\n",
              "      fill: #1967D2;\n",
              "      height: 32px;\n",
              "      padding: 0 0 0 0;\n",
              "      width: 32px;\n",
              "    }\n",
              "\n",
              "    .colab-df-convert:hover {\n",
              "      background-color: #E2EBFA;\n",
              "      box-shadow: 0px 1px 2px rgba(60, 64, 67, 0.3), 0px 1px 3px 1px rgba(60, 64, 67, 0.15);\n",
              "      fill: #174EA6;\n",
              "    }\n",
              "\n",
              "    [theme=dark] .colab-df-convert {\n",
              "      background-color: #3B4455;\n",
              "      fill: #D2E3FC;\n",
              "    }\n",
              "\n",
              "    [theme=dark] .colab-df-convert:hover {\n",
              "      background-color: #434B5C;\n",
              "      box-shadow: 0px 1px 3px 1px rgba(0, 0, 0, 0.15);\n",
              "      filter: drop-shadow(0px 1px 2px rgba(0, 0, 0, 0.3));\n",
              "      fill: #FFFFFF;\n",
              "    }\n",
              "  </style>\n",
              "\n",
              "      <script>\n",
              "        const buttonEl =\n",
              "          document.querySelector('#df-946c0d44-5fd6-4039-8215-a41f2f52498b button.colab-df-convert');\n",
              "        buttonEl.style.display =\n",
              "          google.colab.kernel.accessAllowed ? 'block' : 'none';\n",
              "\n",
              "        async function convertToInteractive(key) {\n",
              "          const element = document.querySelector('#df-946c0d44-5fd6-4039-8215-a41f2f52498b');\n",
              "          const dataTable =\n",
              "            await google.colab.kernel.invokeFunction('convertToInteractive',\n",
              "                                                     [key], {});\n",
              "          if (!dataTable) return;\n",
              "\n",
              "          const docLinkHtml = 'Like what you see? Visit the ' +\n",
              "            '<a target=\"_blank\" href=https://colab.research.google.com/notebooks/data_table.ipynb>data table notebook</a>'\n",
              "            + ' to learn more about interactive tables.';\n",
              "          element.innerHTML = '';\n",
              "          dataTable['output_type'] = 'display_data';\n",
              "          await google.colab.output.renderOutput(dataTable, element);\n",
              "          const docLink = document.createElement('div');\n",
              "          docLink.innerHTML = docLinkHtml;\n",
              "          element.appendChild(docLink);\n",
              "        }\n",
              "      </script>\n",
              "    </div>\n",
              "  </div>\n",
              "  "
            ]
          },
          "metadata": {},
          "execution_count": 11
        }
      ]
    },
    {
      "cell_type": "code",
      "source": [
        "X1.drop('target',axis=1,inplace=True)"
      ],
      "metadata": {
        "id": "IhsYWYzPYlvS"
      },
      "execution_count": 12,
      "outputs": []
    },
    {
      "cell_type": "markdown",
      "metadata": {
        "id": "kARkGcfnjCF8"
      },
      "source": [
        "\n",
        "**TODO 2**\n",
        "\n",
        "Partition the data into 75% training and 25% validation set."
      ]
    },
    {
      "cell_type": "code",
      "metadata": {
        "id": "FxBLE5pzOe1q",
        "colab": {
          "base_uri": "https://localhost:8080/"
        },
        "outputId": "e62c1c9d-b9c7-4c59-d509-ff03bb567340"
      },
      "source": [
        "X1.shape"
      ],
      "execution_count": 13,
      "outputs": [
        {
          "output_type": "execute_result",
          "data": {
            "text/plain": [
              "(506, 12)"
            ]
          },
          "metadata": {},
          "execution_count": 13
        }
      ]
    },
    {
      "cell_type": "code",
      "source": [
        "#Partitioning into 75% TRAINING and 25% VALIDATION set\n",
        "train_X, valid_X, train_y, valid_y = train_test_split(X1, y, test_size=0.25, random_state=42)\n",
        "print('Shape of the set after partition:\\n',train_X.shape, train_y.shape, valid_X.shape, valid_y.shape)"
      ],
      "metadata": {
        "colab": {
          "base_uri": "https://localhost:8080/"
        },
        "id": "TmECEFJuYoYo",
        "outputId": "464c03b6-0632-4235-cf4d-6f0e7e8092f8"
      },
      "execution_count": 14,
      "outputs": [
        {
          "output_type": "stream",
          "name": "stdout",
          "text": [
            "Shape of the set after partition:\n",
            " (379, 12) (379,) (127, 12) (127,)\n"
          ]
        }
      ]
    },
    {
      "cell_type": "markdown",
      "metadata": {
        "id": "fJqs4RnZjd-n"
      },
      "source": [
        "\n",
        "**TODO 3**\n",
        "\n",
        "If we fit a linear regression model on the training set, what will be the feature weights? \n",
        "\n",
        "Calculate the feature weights using the matrix form (do not use any built-in packages such as sklearn or stat models)."
      ]
    },
    {
      "cell_type": "code",
      "metadata": {
        "id": "yTkjKMyXkP5C",
        "colab": {
          "base_uri": "https://localhost:8080/"
        },
        "outputId": "13e2ce6f-2ccf-4b68-95da-0cc62b4972e6"
      },
      "source": [
        "#Calculating the feature weights using matrix form\n",
        "xnp=train_X.to_numpy()\n",
        "A1 = np.linalg.inv(xnp.T.dot(xnp)).dot(xnp.T).dot(train_y)\n",
        "print(pd.DataFrame({'Predictors': train_X.columns, 'Feature Weights' :A1}))"
      ],
      "execution_count": 15,
      "outputs": [
        {
          "output_type": "stream",
          "name": "stdout",
          "text": [
            "   Predictors  Feature Weights\n",
            "0        CRIM        -0.096756\n",
            "1          ZN         0.029468\n",
            "2       INDUS         0.012267\n",
            "3        CHAS         2.937920\n",
            "4         NOX        -4.493978\n",
            "5          RM         6.035047\n",
            "6         AGE        -0.015116\n",
            "7         DIS        -1.005967\n",
            "8         TAX        -0.001020\n",
            "9     PTRATIO        -0.458106\n",
            "10          B         0.016721\n",
            "11      LSTAT        -0.443335\n"
          ]
        }
      ]
    },
    {
      "cell_type": "markdown",
      "metadata": {
        "id": "tOKKKL7OkSJk"
      },
      "source": [
        "\n",
        "**TODO 4**\n",
        "\n",
        "Now only consider two input variables: Age and RM.\n",
        "\n",
        "Fit a linear regression model on the training set with a package at your choice. \n",
        "\n",
        "Present the model summary. We call this model **Model 1**."
      ]
    },
    {
      "cell_type": "code",
      "metadata": {
        "id": "mb9lrptHlXZx",
        "colab": {
          "base_uri": "https://localhost:8080/"
        },
        "outputId": "8220e292-45f5-40d0-d768-af388b3b47d1"
      },
      "source": [
        "validX=valid_X[['RM', 'AGE']]\n",
        "trainX=train_X[['RM','AGE']]\n",
        "model1= LinearRegression()\n",
        "model1.fit(trainX, train_y)\n",
        "print(pd.DataFrame({'Predictors':trainX.columns, \"Feature Weights Values\":model1.coef_}))\n",
        "print('Intercepts:',model1.intercept_)"
      ],
      "execution_count": 16,
      "outputs": [
        {
          "output_type": "stream",
          "name": "stdout",
          "text": [
            "  Predictors  Feature Weights Values\n",
            "0         RM                8.724504\n",
            "1        AGE               -0.067594\n",
            "Intercepts: -27.587535824385256\n"
          ]
        }
      ]
    },
    {
      "cell_type": "markdown",
      "metadata": {
        "id": "b_JTWrEDlFPU"
      },
      "source": [
        "\n",
        "**TODO 5**\n",
        "\n",
        "Evaluate the prediction performance of Model 1 on the validation set with RMSE and MAE as performance matrics."
      ]
    },
    {
      "cell_type": "code",
      "metadata": {
        "id": "716o2-CflX_1",
        "colab": {
          "base_uri": "https://localhost:8080/"
        },
        "outputId": "7eed95d7-56e9-4caa-c970-ea3b31e4742f"
      },
      "source": [
        "#Evaluate the predictions of Model_1\n",
        "y_valid_predict = model1.predict(validX)\n",
        "result=pd.DataFrame({'Predicted': y_valid_predict, 'Actual': valid_y, 'Residual': valid_y-y_valid_predict})\n",
        "print(result, '\\n')\n",
        "#\n",
        "rmse = (np.sqrt(mean_squared_error(valid_y, y_valid_predict)))\n",
        "r2 = r2_score(valid_y, y_valid_predict)\n",
        "print('RMSE:',rmse,\"\\nR-square:\",r2)"
      ],
      "execution_count": 17,
      "outputs": [
        {
          "output_type": "stream",
          "name": "stdout",
          "text": [
            "     Predicted  Actual  Residual\n",
            "173  22.704254    23.6  0.895746\n",
            "274  29.148830    32.4  3.251170\n",
            "491  17.932917    13.6 -4.332917\n",
            "72   24.799349    22.8 -1.999349\n",
            "452  21.145567    16.1 -5.045567\n",
            "..         ...     ...       ...\n",
            "418  17.624968     8.8 -8.824968\n",
            "117  19.359466    19.2 -0.159466\n",
            "42   25.787810    25.3 -0.487810\n",
            "322  21.744268    20.4 -1.344268\n",
            "347  27.388987    23.1 -4.288987\n",
            "\n",
            "[127 rows x 3 columns] \n",
            "\n",
            "RMSE: 6.091863482873927 \n",
            "R-square: 0.4700512007574823\n"
          ]
        }
      ]
    },
    {
      "cell_type": "markdown",
      "metadata": {
        "id": "-SVtXdBBlaF4"
      },
      "source": [
        "\n",
        "**TODO 6**\n",
        "\n",
        "Now consider all the features (after removing linearly dependent variables). \n",
        "\n",
        "Fit a linear regression model on the training set with a package at your choice. Present the model summary. \n",
        "\n",
        "We call this model **Model 2**."
      ]
    },
    {
      "cell_type": "code",
      "metadata": {
        "id": "IQsEcHVNl9Rj",
        "colab": {
          "base_uri": "https://localhost:8080/"
        },
        "outputId": "9f23d69e-5205-48e3-813d-706d87839338"
      },
      "source": [
        "# Fit a liner Regression model to the training data\n",
        "model2 = LinearRegression()\n",
        "model2.fit(train_X, train_y)\n",
        "print(pd.DataFrame({'Predictors':train_X.columns, \"Feature Weights Values\":model2.coef_}))\n",
        "print('\\nIntercepts:',model2.intercept_)"
      ],
      "execution_count": 18,
      "outputs": [
        {
          "output_type": "stream",
          "name": "stdout",
          "text": [
            "   Predictors  Feature Weights Values\n",
            "0        CRIM               -0.092083\n",
            "1          ZN                0.022359\n",
            "2       INDUS               -0.005077\n",
            "3        CHAS                3.117317\n",
            "4         NOX              -14.519439\n",
            "5          RM                4.630679\n",
            "6         AGE               -0.012254\n",
            "7         DIS               -1.379915\n",
            "8         TAX                0.001304\n",
            "9     PTRATIO               -0.822804\n",
            "10          B                0.012410\n",
            "11      LSTAT               -0.508894\n",
            "\n",
            "Intercepts: 24.06578363084932\n"
          ]
        }
      ]
    },
    {
      "cell_type": "markdown",
      "metadata": {
        "id": "eqscMSkwl8wU"
      },
      "source": [
        "\n",
        "**TODO 7**\n",
        "\n",
        "Evaluate the prediction performance of Model 2 on the validation set with RMSE and MAE as performance matrics."
      ]
    },
    {
      "cell_type": "code",
      "metadata": {
        "id": "q2dbIQ1NmDzh",
        "colab": {
          "base_uri": "https://localhost:8080/"
        },
        "outputId": "abc0ad3e-7070-4236-e933-b6f8cafba908"
      },
      "source": [
        "#Evaluate the predictions of model 2\n",
        "yvalid_predict = model2.predict(valid_X)\n",
        "rmse = (np.sqrt(mean_squared_error(valid_y, yvalid_predict)))\n",
        "#Calculate RMSE and R-square\n",
        "r2 = r2_score(valid_y, yvalid_predict)\n",
        "result=pd.DataFrame({'Predicted': yvalid_predict, 'Actual': valid_y, 'Residual': valid_y-yvalid_predict})\n",
        "print(result)\n",
        "print('\\nRMSE:' ,rmse)\n",
        "print('R-square: ',r2)"
      ],
      "execution_count": 19,
      "outputs": [
        {
          "output_type": "stream",
          "name": "stdout",
          "text": [
            "     Predicted  Actual  Residual\n",
            "173  28.695147    23.6 -5.095147\n",
            "274  35.792654    32.4 -3.392654\n",
            "491  19.024018    13.6 -5.424018\n",
            "72   25.341262    22.8 -2.541262\n",
            "452  18.157524    16.1 -2.057524\n",
            "..         ...     ...       ...\n",
            "418   5.174776     8.8  3.625224\n",
            "117  24.708483    19.2 -5.508483\n",
            "42   25.480851    25.3 -0.180851\n",
            "322  22.939858    20.4 -2.539858\n",
            "347  25.133687    23.1 -2.033687\n",
            "\n",
            "[127 rows x 3 columns]\n",
            "\n",
            "RMSE: 4.88579625725069\n",
            "R-square:  0.6591178245793923\n"
          ]
        }
      ]
    },
    {
      "cell_type": "markdown",
      "metadata": {
        "id": "2ZO2elK5mFtp"
      },
      "source": [
        "\n",
        "**TODO 8**\n",
        "\n",
        "Compare the performance of Model 1 and Model 2. \n",
        "\n",
        "Visualize the prediction error of both models using histogram. \n",
        "\n",
        "Comment on the model fitting."
      ]
    },
    {
      "cell_type": "code",
      "metadata": {
        "id": "XtK5KSL5mUY1",
        "colab": {
          "base_uri": "https://localhost:8080/",
          "height": 581
        },
        "outputId": "cb609fc2-f002-4f9b-fd1d-e47fe6c72686"
      },
      "source": [
        "# Plot for Model 1 and Model 2\n",
        "print('MODEL 1 HISTOGRAM')\n",
        "hl=valid_y - y_valid_predict\n",
        "pd.DataFrame(hl).hist()\n",
        "plt.show()\n",
        "print('MODEL 2 HISTOGRAM')\n",
        "h2=valid_y - yvalid_predict\n",
        "pd.DataFrame(h2).hist()\n",
        "plt.show()"
      ],
      "execution_count": 20,
      "outputs": [
        {
          "output_type": "stream",
          "name": "stdout",
          "text": [
            "MODEL 1 HISTOGRAM\n"
          ]
        },
        {
          "output_type": "display_data",
          "data": {
            "text/plain": [
              "<Figure size 432x288 with 1 Axes>"
            ],
            "image/png": "[encoded data removed]"
          },
          "metadata": {
            "needs_background": "light"
          }
        },
        {
          "output_type": "stream",
          "name": "stdout",
          "text": [
            "MODEL 2 HISTOGRAM\n"
          ]
        },
        {
          "output_type": "display_data",
          "data": {
            "text/plain": [
              "<Figure size 432x288 with 1 Axes>"
            ],
            "image/png": "[encoded data removed]"
          },
          "metadata": {
            "needs_background": "light"
          }
        }
      ]
    },
    {
      "cell_type": "markdown",
      "metadata": {
        "id": "mh3dkbjAmd9H"
      },
      "source": [
        "\n",
        "**TODO 9**\n",
        "\n",
        "Now consider all the features (after removing linearly dependent variables). \n",
        "\n",
        "The goal is to fit a LASSO linear regression model on the training set with a package at your choice. \n",
        "\n",
        "Compare the model performance of lambda in the range of [0,1] with the step of 0.01.\n",
        "\n",
        "Plot RMSE versus log(lambda).\n",
        "\n",
        "Pick the appropriate lambda value according to the plot.\n",
        "\n",
        "Present the model summary with the selected lambda. We call this model **Model 3**."
      ]
    },
    {
      "cell_type": "code",
      "metadata": {
        "id": "8iKTKHaomrJL",
        "colab": {
          "base_uri": "https://localhost:8080/"
        },
        "outputId": "57b84608-7ec0-4345-a00d-60a12107f296"
      },
      "source": [
        "model3 = Lasso(alpha=0.2)\n",
        "model3.fit(train_X, train_y)\n",
        "print(pd.DataFrame({'Predictors':train_X.columns,\"Feature Weights Values\":model3.coef_}))\n",
        "print('\\nintercepts:',model3.intercept_)"
      ],
      "execution_count": 21,
      "outputs": [
        {
          "output_type": "stream",
          "name": "stdout",
          "text": [
            "   Predictors  Feature Weights Values\n",
            "0        CRIM               -0.083778\n",
            "1          ZN                0.026284\n",
            "2       INDUS               -0.033401\n",
            "3        CHAS                0.000000\n",
            "4         NOX               -0.000000\n",
            "5          RM                4.179319\n",
            "6         AGE               -0.014622\n",
            "7         DIS               -1.060815\n",
            "8         TAX               -0.001809\n",
            "9     PTRATIO               -0.676845\n",
            "10          B                0.013143\n",
            "11      LSTAT               -0.592253\n",
            "\n",
            "intercepts: 17.631650511202928\n"
          ]
        }
      ]
    },
    {
      "cell_type": "markdown",
      "metadata": {
        "id": "awGm3NPRmsjN"
      },
      "source": [
        "\n",
        "**TODO 10**\n",
        "\n",
        "Evaluate the prediction performance of Model 3 on the validation set with RMSE and MAE as performance matrics."
      ]
    },
    {
      "cell_type": "code",
      "metadata": {
        "id": "M3iFpmebmxDz",
        "colab": {
          "base_uri": "https://localhost:8080/"
        },
        "outputId": "2d1735e3-a6ee-4f98-ee42-7e79b19b3345"
      },
      "source": [
        "#Evaluating predictions of model 3\n",
        "yvalid_predict = model3.predict(valid_X)\n",
        "rmse = (np.sqrt(mean_squared_error(valid_y, yvalid_predict)))\n",
        "# Calculate RMSE and R-square\n",
        "r2 = r2_score(valid_y, yvalid_predict)\n",
        "result=pd.DataFrame({'Predicted': yvalid_predict, 'Actual': valid_y, 'Residual': valid_y-yvalid_predict})\n",
        "print(result)\n",
        "print('\\nRMSE:' ,rmse)\n",
        "print('R-square: ',r2)"
      ],
      "execution_count": 22,
      "outputs": [
        {
          "output_type": "stream",
          "name": "stdout",
          "text": [
            "     Predicted  Actual  Residual\n",
            "173  28.338996    23.6 -4.738996\n",
            "274  32.654996    32.4 -0.254996\n",
            "491  17.808784    13.6 -4.208784\n",
            "72   25.208654    22.8 -2.408654\n",
            "452  19.018892    16.1 -2.918892\n",
            "..         ...     ...       ...\n",
            "418   5.514956     8.8  3.285044\n",
            "117  24.581288    19.2 -5.381288\n",
            "42   26.066288    25.3 -0.766288\n",
            "322  23.735660    20.4 -3.335660\n",
            "347  26.138901    23.1 -3.038901\n",
            "\n",
            "[127 rows x 3 columns]\n",
            "\n",
            "RMSE: 4.999214741961066\n",
            "R-square:  0.6431077046406027\n"
          ]
        }
      ]
    },
    {
      "cell_type": "markdown",
      "metadata": {
        "id": "OolmJkPgmzet"
      },
      "source": [
        "\n",
        "**TODO 11**\n",
        "\n",
        "Among Model 1, 2, and 3, which one would be your pick for future implementation? State your reasons."
      ]
    },
    {
      "cell_type": "markdown",
      "source": [
        "Model 2 is best for future implementation as the value of RMSE is maximum for Model-2 out of all 3 models.\n",
        "Also R-square closer to 1,signifies higher accuracy model.So ,in our case Model-2 has maximum value out of 3"
      ],
      "metadata": {
        "id": "UuCAqZ5mr1BV"
      }
    },
    {
      "cell_type": "markdown",
      "metadata": {
        "id": "Rion40Hwnf-B"
      },
      "source": [
        "## Part 2: K-Nearst-Neighbors"
      ]
    },
    {
      "cell_type": "markdown",
      "metadata": {
        "id": "6X-yZb6YvfhH"
      },
      "source": [
        "### Problem 2 ##"
      ]
    },
    {
      "cell_type": "markdown",
      "metadata": {
        "id": "1hgf-yTV9q2V"
      },
      "source": [
        "The wine dataset is the result of a chemical analysis of wines produced in the same region in Italy but derived from three different cultivars. (For illustration simplicity purpose, only 2 classes, 0 and 1, will be included for the classification task.) The analysis determined the quantities of 13 constituents found in each of the three types of wines.\n",
        "\n",
        "The objective is to classify the wines into class 0 or 1 using the 13 given attributes and k-NN classifier."
      ]
    },
    {
      "cell_type": "code",
      "metadata": {
        "id": "e8zTokcMDEOx",
        "colab": {
          "base_uri": "https://localhost:8080/"
        },
        "outputId": "86c5ed26-f05b-4d0e-c740-684b511d7b09"
      },
      "source": [
        "# load the wine dataset \n",
        "wine = datasets.load_wine()\n",
        "print(wine.DESCR)"
      ],
      "execution_count": 23,
      "outputs": [
        {
          "output_type": "stream",
          "name": "stdout",
          "text": [
            ".. _wine_dataset:\n",
            "\n",
            "Wine recognition dataset\n",
            "------------------------\n",
            "\n",
            "**Data Set Characteristics:**\n",
            "\n",
            "    :Number of Instances: 178\n",
            "    :Number of Attributes: 13 numeric, predictive attributes and the class\n",
            "    :Attribute Information:\n",
            " \t\t- Alcohol\n",
            " \t\t- Malic acid\n",
            " \t\t- Ash\n",
            "\t\t- Alcalinity of ash  \n",
            " \t\t- Magnesium\n",
            "\t\t- Total phenols\n",
            " \t\t- Flavanoids\n",
            " \t\t- Nonflavanoid phenols\n",
            " \t\t- Proanthocyanins\n",
            "\t\t- Color intensity\n",
            " \t\t- Hue\n",
            " \t\t- OD280/OD315 of diluted wines\n",
            " \t\t- Proline\n",
            "\n",
            "    - class:\n",
            "            - class_0\n",
            "            - class_1\n",
            "            - class_2\n",
            "\t\t\n",
            "    :Summary Statistics:\n",
            "    \n",
            "    ============================= ==== ===== ======= =====\n",
            "                                   Min   Max   Mean     SD\n",
            "    ============================= ==== ===== ======= =====\n",
            "    Alcohol:                      11.0  14.8    13.0   0.8\n",
            "    Malic Acid:                   0.74  5.80    2.34  1.12\n",
            "    Ash:                          1.36  3.23    2.36  0.27\n",
            "    Alcalinity of Ash:            10.6  30.0    19.5   3.3\n",
            "    Magnesium:                    70.0 162.0    99.7  14.3\n",
            "    Total Phenols:                0.98  3.88    2.29  0.63\n",
            "    Flavanoids:                   0.34  5.08    2.03  1.00\n",
            "    Nonflavanoid Phenols:         0.13  0.66    0.36  0.12\n",
            "    Proanthocyanins:              0.41  3.58    1.59  0.57\n",
            "    Colour Intensity:              1.3  13.0     5.1   2.3\n",
            "    Hue:                          0.48  1.71    0.96  0.23\n",
            "    OD280/OD315 of diluted wines: 1.27  4.00    2.61  0.71\n",
            "    Proline:                       278  1680     746   315\n",
            "    ============================= ==== ===== ======= =====\n",
            "\n",
            "    :Missing Attribute Values: None\n",
            "    :Class Distribution: class_0 (59), class_1 (71), class_2 (48)\n",
            "    :Creator: R.A. Fisher\n",
            "    :Donor: Michael Marshall (MARSHALL%PLU@io.arc.nasa.gov)\n",
            "    :Date: July, 1988\n",
            "\n",
            "This is a copy of UCI ML Wine recognition datasets.\n",
            "https://archive.ics.uci.edu/ml/machine-learning-databases/wine/wine.data\n",
            "\n",
            "The data is the results of a chemical analysis of wines grown in the same\n",
            "region in Italy by three different cultivators. There are thirteen different\n",
            "measurements taken for different constituents found in the three types of\n",
            "wine.\n",
            "\n",
            "Original Owners: \n",
            "\n",
            "Forina, M. et al, PARVUS - \n",
            "An Extendible Package for Data Exploration, Classification and Correlation. \n",
            "Institute of Pharmaceutical and Food Analysis and Technologies,\n",
            "Via Brigata Salerno, 16147 Genoa, Italy.\n",
            "\n",
            "Citation:\n",
            "\n",
            "Lichman, M. (2013). UCI Machine Learning Repository\n",
            "[https://archive.ics.uci.edu/ml]. Irvine, CA: University of California,\n",
            "School of Information and Computer Science. \n",
            "\n",
            ".. topic:: References\n",
            "\n",
            "  (1) S. Aeberhard, D. Coomans and O. de Vel, \n",
            "  Comparison of Classifiers in High Dimensional Settings, \n",
            "  Tech. Rep. no. 92-02, (1992), Dept. of Computer Science and Dept. of  \n",
            "  Mathematics and Statistics, James Cook University of North Queensland. \n",
            "  (Also submitted to Technometrics). \n",
            "\n",
            "  The data was used with many others for comparing various \n",
            "  classifiers. The classes are separable, though only RDA \n",
            "  has achieved 100% correct classification. \n",
            "  (RDA : 100%, QDA 99.4%, LDA 98.9%, 1NN 96.1% (z-transformed data)) \n",
            "  (All results using the leave-one-out technique) \n",
            "\n",
            "  (2) S. Aeberhard, D. Coomans and O. de Vel, \n",
            "  \"THE CLASSIFICATION PERFORMANCE OF RDA\" \n",
            "  Tech. Rep. no. 92-01, (1992), Dept. of Computer Science and Dept. of \n",
            "  Mathematics and Statistics, James Cook University of North Queensland. \n",
            "  (Also submitted to Journal of Chemometrics).\n",
            "\n"
          ]
        }
      ]
    },
    {
      "cell_type": "code",
      "metadata": {
        "id": "gJq0FB5U_y8N",
        "colab": {
          "base_uri": "https://localhost:8080/",
          "height": 270
        },
        "outputId": "4a3dd776-20b7-4156-c804-c5350f3ba6e6"
      },
      "source": [
        "# convert the data into dataframe format\n",
        "X = pd.DataFrame(wine['data'], columns = wine['feature_names'])\n",
        "y = wine['target']\n",
        "\n",
        "# only consider wine class 0 and 1\n",
        "X = X.loc[0:129, :]\n",
        "y = y[0:130]\n",
        "\n",
        "X.head()\n"
      ],
      "execution_count": 24,
      "outputs": [
        {
          "output_type": "execute_result",
          "data": {
            "text/plain": [
              "   alcohol  malic_acid   ash  alcalinity_of_ash  magnesium  total_phenols  \\\n",
              "0    14.23        1.71  2.43               15.6      127.0           2.80   \n",
              "1    13.20        1.78  2.14               11.2      100.0           2.65   \n",
              "2    13.16        2.36  2.67               18.6      101.0           2.80   \n",
              "3    14.37        1.95  2.50               16.8      113.0           3.85   \n",
              "4    13.24        2.59  2.87               21.0      118.0           2.80   \n",
              "\n",
              "   flavanoids  nonflavanoid_phenols  proanthocyanins  color_intensity   hue  \\\n",
              "0        3.06                  0.28             2.29             5.64  1.04   \n",
              "1        2.76                  0.26             1.28             4.38  1.05   \n",
              "2        3.24                  0.30             2.81             5.68  1.03   \n",
              "3        3.49                  0.24             2.18             7.80  0.86   \n",
              "4        2.69                  0.39             1.82             4.32  1.04   \n",
              "\n",
              "   od280/od315_of_diluted_wines  proline  \n",
              "0                          3.92   1065.0  \n",
              "1                          3.40   1050.0  \n",
              "2                          3.17   1185.0  \n",
              "3                          3.45   1480.0  \n",
              "4                          2.93    735.0  "
            ],
            "text/html": [
              "\n",
              "  <div id=\"df-6754b545-0d18-4928-9d24-d8cf39f3d143\">\n",
              "    <div class=\"colab-df-container\">\n",
              "      <div>\n",
              "<style scoped>\n",
              "    .dataframe tbody tr th:only-of-type {\n",
              "        vertical-align: middle;\n",
              "    }\n",
              "\n",
              "    .dataframe tbody tr th {\n",
              "        vertical-align: top;\n",
              "    }\n",
              "\n",
              "    .dataframe thead th {\n",
              "        text-align: right;\n",
              "    }\n",
              "</style>\n",
              "<table border=\"1\" class=\"dataframe\">\n",
              "  <thead>\n",
              "    <tr style=\"text-align: right;\">\n",
              "      <th></th>\n",
              "      <th>alcohol</th>\n",
              "      <th>malic_acid</th>\n",
              "      <th>ash</th>\n",
              "      <th>alcalinity_of_ash</th>\n",
              "      <th>magnesium</th>\n",
              "      <th>total_phenols</th>\n",
              "      <th>flavanoids</th>\n",
              "      <th>nonflavanoid_phenols</th>\n",
              "      <th>proanthocyanins</th>\n",
              "      <th>color_intensity</th>\n",
              "      <th>hue</th>\n",
              "      <th>od280/od315_of_diluted_wines</th>\n",
              "      <th>proline</th>\n",
              "    </tr>\n",
              "  </thead>\n",
              "  <tbody>\n",
              "    <tr>\n",
              "      <th>0</th>\n",
              "      <td>14.23</td>\n",
              "      <td>1.71</td>\n",
              "      <td>2.43</td>\n",
              "      <td>15.6</td>\n",
              "      <td>127.0</td>\n",
              "      <td>2.80</td>\n",
              "      <td>3.06</td>\n",
              "      <td>0.28</td>\n",
              "      <td>2.29</td>\n",
              "      <td>5.64</td>\n",
              "      <td>1.04</td>\n",
              "      <td>3.92</td>\n",
              "      <td>1065.0</td>\n",
              "    </tr>\n",
              "    <tr>\n",
              "      <th>1</th>\n",
              "      <td>13.20</td>\n",
              "      <td>1.78</td>\n",
              "      <td>2.14</td>\n",
              "      <td>11.2</td>\n",
              "      <td>100.0</td>\n",
              "      <td>2.65</td>\n",
              "      <td>2.76</td>\n",
              "      <td>0.26</td>\n",
              "      <td>1.28</td>\n",
              "      <td>4.38</td>\n",
              "      <td>1.05</td>\n",
              "      <td>3.40</td>\n",
              "      <td>1050.0</td>\n",
              "    </tr>\n",
              "    <tr>\n",
              "      <th>2</th>\n",
              "      <td>13.16</td>\n",
              "      <td>2.36</td>\n",
              "      <td>2.67</td>\n",
              "      <td>18.6</td>\n",
              "      <td>101.0</td>\n",
              "      <td>2.80</td>\n",
              "      <td>3.24</td>\n",
              "      <td>0.30</td>\n",
              "      <td>2.81</td>\n",
              "      <td>5.68</td>\n",
              "      <td>1.03</td>\n",
              "      <td>3.17</td>\n",
              "      <td>1185.0</td>\n",
              "    </tr>\n",
              "    <tr>\n",
              "      <th>3</th>\n",
              "      <td>14.37</td>\n",
              "      <td>1.95</td>\n",
              "      <td>2.50</td>\n",
              "      <td>16.8</td>\n",
              "      <td>113.0</td>\n",
              "      <td>3.85</td>\n",
              "      <td>3.49</td>\n",
              "      <td>0.24</td>\n",
              "      <td>2.18</td>\n",
              "      <td>7.80</td>\n",
              "      <td>0.86</td>\n",
              "      <td>3.45</td>\n",
              "      <td>1480.0</td>\n",
              "    </tr>\n",
              "    <tr>\n",
              "      <th>4</th>\n",
              "      <td>13.24</td>\n",
              "      <td>2.59</td>\n",
              "      <td>2.87</td>\n",
              "      <td>21.0</td>\n",
              "      <td>118.0</td>\n",
              "      <td>2.80</td>\n",
              "      <td>2.69</td>\n",
              "      <td>0.39</td>\n",
              "      <td>1.82</td>\n",
              "      <td>4.32</td>\n",
              "      <td>1.04</td>\n",
              "      <td>2.93</td>\n",
              "      <td>735.0</td>\n",
              "    </tr>\n",
              "  </tbody>\n",
              "</table>\n",
              "</div>\n",
              "      <button class=\"colab-df-convert\" onclick=\"convertToInteractive('df-6754b545-0d18-4928-9d24-d8cf39f3d143')\"\n",
              "              title=\"Convert this dataframe to an interactive table.\"\n",
              "              style=\"display:none;\">\n",
              "        \n",
              "  <svg xmlns=\"http://www.w3.org/2000/svg\" height=\"24px\"viewBox=\"0 0 24 24\"\n",
              "       width=\"24px\">\n",
              "    <path d=\"M0 0h24v24H0V0z\" fill=\"none\"/>\n",
              "    <path d=\"M18.56 5.44l.94 2.06.94-2.06 2.06-.94-2.06-.94-.94-2.06-.94 2.06-2.06.94zm-11 1L8.5 8.5l.94-2.06 2.06-.94-2.06-.94L8.5 2.5l-.94 2.06-2.06.94zm10 10l.94 2.06.94-2.06 2.06-.94-2.06-.94-.94-2.06-.94 2.06-2.06.94z\"/><path d=\"M17.41 7.96l-1.37-1.37c-.4-.4-.92-.59-1.43-.59-.52 0-1.04.2-1.43.59L10.3 9.45l-7.72 7.72c-.78.78-.78 2.05 0 2.83L4 21.41c.39.39.9.59 1.41.59.51 0 1.02-.2 1.41-.59l7.78-7.78 2.81-2.81c.8-.78.8-2.07 0-2.86zM5.41 20L4 18.59l7.72-7.72 1.47 1.35L5.41 20z\"/>\n",
              "  </svg>\n",
              "      </button>\n",
              "      \n",
              "  <style>\n",
              "    .colab-df-container {\n",
              "      display:flex;\n",
              "      flex-wrap:wrap;\n",
              "      gap: 12px;\n",
              "    }\n",
              "\n",
              "    .colab-df-convert {\n",
              "      background-color: #E8F0FE;\n",
              "      border: none;\n",
              "      border-radius: 50%;\n",
              "      cursor: pointer;\n",
              "      display: none;\n",
              "      fill: #1967D2;\n",
              "      height: 32px;\n",
              "      padding: 0 0 0 0;\n",
              "      width: 32px;\n",
              "    }\n",
              "\n",
              "    .colab-df-convert:hover {\n",
              "      background-color: #E2EBFA;\n",
              "      box-shadow: 0px 1px 2px rgba(60, 64, 67, 0.3), 0px 1px 3px 1px rgba(60, 64, 67, 0.15);\n",
              "      fill: #174EA6;\n",
              "    }\n",
              "\n",
              "    [theme=dark] .colab-df-convert {\n",
              "      background-color: #3B4455;\n",
              "      fill: #D2E3FC;\n",
              "    }\n",
              "\n",
              "    [theme=dark] .colab-df-convert:hover {\n",
              "      background-color: #434B5C;\n",
              "      box-shadow: 0px 1px 3px 1px rgba(0, 0, 0, 0.15);\n",
              "      filter: drop-shadow(0px 1px 2px rgba(0, 0, 0, 0.3));\n",
              "      fill: #FFFFFF;\n",
              "    }\n",
              "  </style>\n",
              "\n",
              "      <script>\n",
              "        const buttonEl =\n",
              "          document.querySelector('#df-6754b545-0d18-4928-9d24-d8cf39f3d143 button.colab-df-convert');\n",
              "        buttonEl.style.display =\n",
              "          google.colab.kernel.accessAllowed ? 'block' : 'none';\n",
              "\n",
              "        async function convertToInteractive(key) {\n",
              "          const element = document.querySelector('#df-6754b545-0d18-4928-9d24-d8cf39f3d143');\n",
              "          const dataTable =\n",
              "            await google.colab.kernel.invokeFunction('convertToInteractive',\n",
              "                                                     [key], {});\n",
              "          if (!dataTable) return;\n",
              "\n",
              "          const docLinkHtml = 'Like what you see? Visit the ' +\n",
              "            '<a target=\"_blank\" href=https://colab.research.google.com/notebooks/data_table.ipynb>data table notebook</a>'\n",
              "            + ' to learn more about interactive tables.';\n",
              "          element.innerHTML = '';\n",
              "          dataTable['output_type'] = 'display_data';\n",
              "          await google.colab.output.renderOutput(dataTable, element);\n",
              "          const docLink = document.createElement('div');\n",
              "          docLink.innerHTML = docLinkHtml;\n",
              "          element.appendChild(docLink);\n",
              "        }\n",
              "      </script>\n",
              "    </div>\n",
              "  </div>\n",
              "  "
            ]
          },
          "metadata": {},
          "execution_count": 24
        }
      ]
    },
    {
      "cell_type": "code",
      "metadata": {
        "id": "HWEw98d_3gM7"
      },
      "source": [
        "X['target'] = y"
      ],
      "execution_count": 25,
      "outputs": []
    },
    {
      "cell_type": "markdown",
      "metadata": {
        "id": "2saGofKTEpiJ"
      },
      "source": [
        "**TODO 1**\n",
        "\n",
        "Considering the fundamental idea of k-NN, would you recommend data rescaling before model building? Why? \n",
        "\n",
        "If so, partition the data into 75% training and 25% validation set, then standardize them."
      ]
    },
    {
      "cell_type": "markdown",
      "source": [
        "Based on the fundamental idea of k-NN, data rescaling is recommended before model building. This is because k-NN is a distance-based algorithm that calculates the distances between data points to make predictions. If the features are on different scales, then the feature with the largest scale will dominate the distance calculations and can lead to biased predictions.\n",
        "\n",
        "Therefore, it is advisable to rescale the data so that all the features are on the same scale. One common method for rescaling is standardization, where each feature is transformed to have a mean of 0 and a standard deviation of 1."
      ],
      "metadata": {
        "id": "_gRkNyy8dKUi"
      }
    },
    {
      "cell_type": "code",
      "metadata": {
        "id": "wGM-LtA9oKAL"
      },
      "source": [
        "from sklearn.model_selection import train_test_split\n",
        "from sklearn.preprocessing import StandardScaler\n",
        "\n",
        "X_train, X_valid, y_train, y_valid = train_test_split(X.drop('target', axis=1), X['target'], test_size=0.25, random_state=42)\n",
        "\n",
        "scaler = StandardScaler()\n",
        "X_train = scaler.fit_transform(X_train)\n",
        "X_valid = scaler.transform(X_valid)"
      ],
      "execution_count": 26,
      "outputs": []
    },
    {
      "cell_type": "code",
      "source": [
        "print(X_train, X_valid)"
      ],
      "metadata": {
        "colab": {
          "base_uri": "https://localhost:8080/"
        },
        "id": "aaRrktIodq2Q",
        "outputId": "0343b677-eee6-45bb-b914-b888bb263497"
      },
      "execution_count": 27,
      "outputs": [
        {
          "output_type": "stream",
          "name": "stdout",
          "text": [
            "[[ 0.66604158 -0.2193721   0.86046902 ...  0.45027332  1.79677131\n",
            "   0.24962922]\n",
            " [-0.61993372 -0.89894396 -1.39270748 ...  0.45027332  1.10893013\n",
            "  -0.74664951]\n",
            " [-1.7124437  -1.3555313   0.50126697 ...  0.31812048 -1.25805276\n",
            "  -0.97267096]\n",
            " ...\n",
            " [ 1.66750907 -0.15566224  0.10941018 ...  0.97888465  0.13786022\n",
            "   2.33735361]\n",
            " [-0.25576372 -0.51668479 -0.2824466  ... -0.60694936 -1.76381834\n",
            "  -0.79125901]\n",
            " [-0.65407465  0.46019975  0.37064804 ... -1.66417203  0.9066239\n",
            "  -0.96077509]] [[ 0.73432345 -0.30431858  0.37064804  0.37967414  1.30139658  0.79477959\n",
            "   0.43038061 -1.28990677  1.35869206  1.3126622  -0.47479652  0.19855209\n",
            "   1.06746997]\n",
            " [ 0.73432345 -0.3255552  -0.11917294 -0.78818783  1.37423874  1.13337848\n",
            "   1.09822655 -0.00473187  1.15820466  1.23879878 -0.67302577  0.9066239\n",
            "   0.1009309 ]\n",
            " [ 0.82536595  1.15038992  0.69719536 -1.05978363  1.30139658  0.33143375\n",
            "   0.75775607 -1.5653014  -0.08117203  0.60480438 -0.60694936  0.86616265\n",
            "   0.24962922]\n",
            " [ 0.75708408 -0.37864675  0.04410072 -0.00055999  0.57297495  0.61656965\n",
            "   0.96727636 -1.10631036  0.44738567  1.71275576  0.25204406 -0.10490725\n",
            "   2.24218668]\n",
            " [-2.14489557 -0.53792141 -0.47837499  0.65126994 -0.95671047 -0.09627011\n",
            "  -0.36841552  1.64763587  0.55674244 -1.36488695  4.34878191 -0.12513787\n",
            "  -1.05296805]\n",
            " [ 1.48542407 -0.33617351 -0.15182767 -0.76102825  1.4470809   1.22248345\n",
            "   0.71847101 -0.73911753  0.59319469  1.39268091 -0.73910219  0.76500954\n",
            "   0.62137501]\n",
            " [-0.80201871 -0.87770733 -1.94783792 -0.62523034  3.85087227 -1.18335075\n",
            "  -1.53387216 -1.84069602  1.4498227  -0.78013483  1.50749599  0.27947459\n",
            "  -0.12806451]\n",
            " [-0.56303215  0.56638286 -0.24979187  0.78706785 -0.59249965 -1.48630765\n",
            "  -0.80055113  2.93281078 -0.5185991  -0.87246411 -1.26771352  0.74477891\n",
            "  -1.32657296]\n",
            " [-0.22162278 -0.2193721  -0.47837499 -0.08203873 -0.8838683  -0.55961596\n",
            "   0.10300515 -0.73911753  0.11931537 -0.13382987  0.71457898  0.42108895\n",
            "  -0.13996038]\n",
            " [ 0.54085814 -0.26184534  0.89312375 -0.81534741 -0.37397317  0.59874866\n",
            "   0.6399009  -0.00473187 -0.46392072  0.42014582 -0.87125502  0.58293393\n",
            "   1.29051745]\n",
            " [-0.50613059 -0.5273031  -0.47837499 -0.02771957  4.65213606 -0.02498614\n",
            "  -0.23746533 -0.18832828  2.87146067 -0.93401697  0.71457898 -0.61067283\n",
            "   0.52323412]\n",
            " [ 0.43843533 -0.31493689 -0.67430338 -0.57091118 -0.301131   -0.20319608\n",
            "  -0.34222548 -0.64731932 -0.64618199 -0.10305344 -0.21049085 -0.3274441\n",
            "   1.55817442]\n",
            " [-0.84753996 -0.60163127  0.59923116 -0.02771957  0.42729062 -1.11206678\n",
            "  -0.91840629  1.00504842 -1.22941808 -0.71858198  2.63079507 -1.41989775\n",
            "  -1.2076143 ]\n",
            " [ 0.37015346  0.6088561   1.70949204  0.51547204  1.4470809   0.50964369\n",
            "   0.31252544  0.45425917  0.21044601  0.12469212 -0.07833802 -0.00375414\n",
            "  -0.07750708]\n",
            " [-0.71097621 -0.64410451 -1.19677909 -0.84250699 -0.95671047  0.06411883\n",
            "   0.06372009 -0.46372291  0.11931537 -0.74935841  1.1771139  -0.38813597\n",
            "  -0.99051476]\n",
            " [-0.94996277  0.06732228 -2.11111158 -0.43511328 -0.08260451 -0.50615298\n",
            "  -0.36841552 -0.73911753 -0.55505136 -0.50314699  1.44141957  0.05693773\n",
            "  -0.15185624]\n",
            " [ 0.41567471 -0.39988337  1.61152785 -0.97830489  0.8643436   0.15322381\n",
            "   0.29943042 -0.00473187 -0.62795587  0.29704011  0.25204406 -0.30721348\n",
            "   0.35371804]\n",
            " [-1.04100527 -1.16440171 -1.13146962 -0.02771957 -0.8838683  -0.16755409\n",
            "  -0.25056035 -0.3719247  -0.50037297 -0.99556982  2.16826016  0.3806277\n",
            "  -1.43660971]\n",
            " [-0.71097621  0.86369554 -0.41306552 -0.29931538 -0.73818398 -0.11409111\n",
            "  -0.26365537 -0.83091574  0.52029018 -1.21100481  0.64850257  0.74477891\n",
            "  -1.40092211]\n",
            " [-1.22309027 -1.19625664  0.76250482 -0.29931538 -0.301131   -0.55961596\n",
            "  -0.31603544 -1.10631036  1.17643078 -0.65702912 -1.73024844  0.29970521\n",
            "  -0.71690985]\n",
            " [ 1.45128313 -0.45297493  0.4359575  -0.70670909  0.71865927  1.40069339\n",
            "   1.93630773 -0.18832828  0.28335052  2.82070713  1.1771139  -0.22629099\n",
            "   2.73289113]\n",
            " [ 1.34886032  0.15226876 -0.15182767 -0.29931538  0.50013279  0.7769586\n",
            "   1.1375116  -1.10631036  1.23110917  1.00489793  1.30926674  0.48178082\n",
            "   2.22731685]\n",
            " [-1.66692245  0.4071082   0.24002911  0.24387623 -0.15544668  0.68785363\n",
            "   0.44347562 -0.18832828  0.22867214 -0.53392342 -1.66417203  0.92685452\n",
            "  -0.40464338]\n",
            " [ 1.37162094 -0.56977634 -0.08651821 -0.62523034 -0.22828884 -0.55961596\n",
            "  -0.02794504 -0.73911753 -0.24520718  0.54325153  0.7806554  -0.22629099\n",
            "   1.54330459]\n",
            " [-0.55165184 -0.51668479 -0.1844824   0.65126994 -0.8838683   0.40271772\n",
            "   0.91489629  0.45425917  0.11931537 -0.10920872 -2.39101261 -0.18582974\n",
            "  -1.2165362 ]\n",
            " [ 1.47404376  2.14851108  0.30533857 -0.05487915  0.93718576  0.59874866\n",
            "   0.26014537 -0.3719247  -0.82844327  0.69097838 -1.20163711  0.80547078\n",
            "   0.94851131]\n",
            " [-0.71097621 -0.4317383  -0.44572026  0.35251456  0.35444846 -2.51992531\n",
            "  -1.87434264  0.27066276 -0.44569459 -0.65702912 -0.96376201 -2.24935329\n",
            "   0.32397838]\n",
            " [-0.66545497 -1.09007354 -1.29474328 -1.16842196  2.75823983 -1.09424578\n",
            "  -0.78745611  0.08706634  1.92370202 -0.44159414  0.05381481 -1.25805276\n",
            "  -0.03289759]\n",
            " [ 1.12125407 -0.35741013 -0.73961284 -0.84250699  0.20876414  1.04427351\n",
            "   1.22917673 -1.19810857  0.7936821   1.22033292 -0.93733144  0.80547078\n",
            "   0.66598451]\n",
            " [ 1.49680438 -0.3255552   0.27268384 -0.95114531  2.10266037  0.50964369\n",
            "   0.79704112 -0.55552111  1.06707402  0.9371898  -0.07833802  1.99907754\n",
            "   0.90390182]\n",
            " [ 0.95054939 -0.30431858  0.20737438 -0.84250699 -0.66534182  0.15322381\n",
            "   0.40419057 -0.46372291  0.19221988  0.91256865  0.64850257 -0.06444601\n",
            "   1.66226324]\n",
            " [ 1.09849345 -0.13442562  0.79515955 -1.11410279  0.20876414  1.31158842\n",
            "   1.45179204 -1.5653014  -0.00826752  0.8079288  -1.13556069  1.27077511\n",
            "   0.99312081]\n",
            " [ 1.04159189 -0.38926506  0.82781428 -0.51659202 -0.301131   -0.11409111\n",
            "   0.70537599 -1.10631036  1.06707402  0.91256865  1.24319032  0.88639328\n",
            "   1.49869509]]\n"
          ]
        }
      ]
    },
    {
      "cell_type": "markdown",
      "metadata": {
        "id": "RrGgm_3mJbIR"
      },
      "source": [
        "**TODO 2**\n",
        "\n",
        "Choose the best k from 1-10 based on the classification accuracy of different k values on the validation set."
      ]
    },
    {
      "cell_type": "code",
      "metadata": {
        "id": "im140FGgoXwZ",
        "colab": {
          "base_uri": "https://localhost:8080/"
        },
        "outputId": "a469eb6a-b383-4f9c-e8ee-df27db3d394d"
      },
      "source": [
        "from sklearn.neighbors import KNeighborsClassifier\n",
        "from sklearn.metrics import accuracy_score\n",
        "\n",
        "# Try k values from 1 to 10\n",
        "k_values = range(1, 11)\n",
        "accuracies = []\n",
        "\n",
        "for k in k_values:\n",
        "    # Train k-NN classifier with current k value\n",
        "    knn = KNeighborsClassifier(n_neighbors=k)\n",
        "    knn.fit(X_train, y_train)\n",
        "    \n",
        "    # Predict validation set labels and compute accuracy\n",
        "    y_pred = knn.predict(X_valid)\n",
        "    acc = accuracy_score(y_valid, y_pred)\n",
        "    \n",
        "    # Record accuracy for current k value\n",
        "    accuracies.append(acc)\n",
        "    \n",
        "    print(\"k =\", k, \"Accuracy:\", acc)"
      ],
      "execution_count": 28,
      "outputs": [
        {
          "output_type": "stream",
          "name": "stdout",
          "text": [
            "k = 1 Accuracy: 0.9393939393939394\n",
            "k = 2 Accuracy: 0.9393939393939394\n",
            "k = 3 Accuracy: 0.9696969696969697\n",
            "k = 4 Accuracy: 0.9090909090909091\n",
            "k = 5 Accuracy: 0.9696969696969697\n",
            "k = 6 Accuracy: 0.9393939393939394\n",
            "k = 7 Accuracy: 0.9696969696969697\n",
            "k = 8 Accuracy: 0.9393939393939394\n",
            "k = 9 Accuracy: 0.9393939393939394\n",
            "k = 10 Accuracy: 0.9393939393939394\n"
          ]
        }
      ]
    },
    {
      "cell_type": "markdown",
      "source": [
        "KNN algorithm achieved the highest accuracy of 97% on the validation set when k=3. Therefore, the best value of k for this dataset and problem is 3."
      ],
      "metadata": {
        "id": "P5kwvT5CojGD"
      }
    },
    {
      "cell_type": "markdown",
      "metadata": {
        "id": "rvUBy4oPMMIf"
      },
      "source": [
        "**TODO 3**\n",
        "\n",
        "Classify the new record given below using the chosen k. \n",
        "\n",
        "Considering the size of the wine dataset, would you recommend data partition before scoring the new record? Why?"
      ]
    },
    {
      "cell_type": "code",
      "metadata": {
        "id": "En5oZKFkOkd9",
        "colab": {
          "base_uri": "https://localhost:8080/",
          "height": 145
        },
        "outputId": "f97bbaca-bc5c-4243-8c59-f3303f469c21"
      },
      "source": [
        "# New record\n",
        "new_wine = pd.DataFrame(columns = wine['feature_names'])\n",
        "new_wine.loc[0,:] = np.array([14.12, 1.88, 2.31, 18.5, 125, 2.50, 3.12, 0.26, 2.12, 4.87, 1.02, 3.23, 955])\n",
        "new_wine"
      ],
      "execution_count": 31,
      "outputs": [
        {
          "output_type": "execute_result",
          "data": {
            "text/plain": [
              "  alcohol malic_acid   ash alcalinity_of_ash magnesium total_phenols  \\\n",
              "0   14.12       1.88  2.31              18.5     125.0           2.5   \n",
              "\n",
              "  flavanoids nonflavanoid_phenols proanthocyanins color_intensity   hue  \\\n",
              "0       3.12                 0.26            2.12            4.87  1.02   \n",
              "\n",
              "  od280/od315_of_diluted_wines proline  \n",
              "0                         3.23   955.0  "
            ],
            "text/html": [
              "\n",
              "  <div id=\"df-fc50caf5-49e8-4b8e-b870-08b9f45dab69\">\n",
              "    <div class=\"colab-df-container\">\n",
              "      <div>\n",
              "<style scoped>\n",
              "    .dataframe tbody tr th:only-of-type {\n",
              "        vertical-align: middle;\n",
              "    }\n",
              "\n",
              "    .dataframe tbody tr th {\n",
              "        vertical-align: top;\n",
              "    }\n",
              "\n",
              "    .dataframe thead th {\n",
              "        text-align: right;\n",
              "    }\n",
              "</style>\n",
              "<table border=\"1\" class=\"dataframe\">\n",
              "  <thead>\n",
              "    <tr style=\"text-align: right;\">\n",
              "      <th></th>\n",
              "      <th>alcohol</th>\n",
              "      <th>malic_acid</th>\n",
              "      <th>ash</th>\n",
              "      <th>alcalinity_of_ash</th>\n",
              "      <th>magnesium</th>\n",
              "      <th>total_phenols</th>\n",
              "      <th>flavanoids</th>\n",
              "      <th>nonflavanoid_phenols</th>\n",
              "      <th>proanthocyanins</th>\n",
              "      <th>color_intensity</th>\n",
              "      <th>hue</th>\n",
              "      <th>od280/od315_of_diluted_wines</th>\n",
              "      <th>proline</th>\n",
              "    </tr>\n",
              "  </thead>\n",
              "  <tbody>\n",
              "    <tr>\n",
              "      <th>0</th>\n",
              "      <td>14.12</td>\n",
              "      <td>1.88</td>\n",
              "      <td>2.31</td>\n",
              "      <td>18.5</td>\n",
              "      <td>125.0</td>\n",
              "      <td>2.5</td>\n",
              "      <td>3.12</td>\n",
              "      <td>0.26</td>\n",
              "      <td>2.12</td>\n",
              "      <td>4.87</td>\n",
              "      <td>1.02</td>\n",
              "      <td>3.23</td>\n",
              "      <td>955.0</td>\n",
              "    </tr>\n",
              "  </tbody>\n",
              "</table>\n",
              "</div>\n",
              "      <button class=\"colab-df-convert\" onclick=\"convertToInteractive('df-fc50caf5-49e8-4b8e-b870-08b9f45dab69')\"\n",
              "              title=\"Convert this dataframe to an interactive table.\"\n",
              "              style=\"display:none;\">\n",
              "        \n",
              "  <svg xmlns=\"http://www.w3.org/2000/svg\" height=\"24px\"viewBox=\"0 0 24 24\"\n",
              "       width=\"24px\">\n",
              "    <path d=\"M0 0h24v24H0V0z\" fill=\"none\"/>\n",
              "    <path d=\"M18.56 5.44l.94 2.06.94-2.06 2.06-.94-2.06-.94-.94-2.06-.94 2.06-2.06.94zm-11 1L8.5 8.5l.94-2.06 2.06-.94-2.06-.94L8.5 2.5l-.94 2.06-2.06.94zm10 10l.94 2.06.94-2.06 2.06-.94-2.06-.94-.94-2.06-.94 2.06-2.06.94z\"/><path d=\"M17.41 7.96l-1.37-1.37c-.4-.4-.92-.59-1.43-.59-.52 0-1.04.2-1.43.59L10.3 9.45l-7.72 7.72c-.78.78-.78 2.05 0 2.83L4 21.41c.39.39.9.59 1.41.59.51 0 1.02-.2 1.41-.59l7.78-7.78 2.81-2.81c.8-.78.8-2.07 0-2.86zM5.41 20L4 18.59l7.72-7.72 1.47 1.35L5.41 20z\"/>\n",
              "  </svg>\n",
              "      </button>\n",
              "      \n",
              "  <style>\n",
              "    .colab-df-container {\n",
              "      display:flex;\n",
              "      flex-wrap:wrap;\n",
              "      gap: 12px;\n",
              "    }\n",
              "\n",
              "    .colab-df-convert {\n",
              "      background-color: #E8F0FE;\n",
              "      border: none;\n",
              "      border-radius: 50%;\n",
              "      cursor: pointer;\n",
              "      display: none;\n",
              "      fill: #1967D2;\n",
              "      height: 32px;\n",
              "      padding: 0 0 0 0;\n",
              "      width: 32px;\n",
              "    }\n",
              "\n",
              "    .colab-df-convert:hover {\n",
              "      background-color: #E2EBFA;\n",
              "      box-shadow: 0px 1px 2px rgba(60, 64, 67, 0.3), 0px 1px 3px 1px rgba(60, 64, 67, 0.15);\n",
              "      fill: #174EA6;\n",
              "    }\n",
              "\n",
              "    [theme=dark] .colab-df-convert {\n",
              "      background-color: #3B4455;\n",
              "      fill: #D2E3FC;\n",
              "    }\n",
              "\n",
              "    [theme=dark] .colab-df-convert:hover {\n",
              "      background-color: #434B5C;\n",
              "      box-shadow: 0px 1px 3px 1px rgba(0, 0, 0, 0.15);\n",
              "      filter: drop-shadow(0px 1px 2px rgba(0, 0, 0, 0.3));\n",
              "      fill: #FFFFFF;\n",
              "    }\n",
              "  </style>\n",
              "\n",
              "      <script>\n",
              "        const buttonEl =\n",
              "          document.querySelector('#df-fc50caf5-49e8-4b8e-b870-08b9f45dab69 button.colab-df-convert');\n",
              "        buttonEl.style.display =\n",
              "          google.colab.kernel.accessAllowed ? 'block' : 'none';\n",
              "\n",
              "        async function convertToInteractive(key) {\n",
              "          const element = document.querySelector('#df-fc50caf5-49e8-4b8e-b870-08b9f45dab69');\n",
              "          const dataTable =\n",
              "            await google.colab.kernel.invokeFunction('convertToInteractive',\n",
              "                                                     [key], {});\n",
              "          if (!dataTable) return;\n",
              "\n",
              "          const docLinkHtml = 'Like what you see? Visit the ' +\n",
              "            '<a target=\"_blank\" href=https://colab.research.google.com/notebooks/data_table.ipynb>data table notebook</a>'\n",
              "            + ' to learn more about interactive tables.';\n",
              "          element.innerHTML = '';\n",
              "          dataTable['output_type'] = 'display_data';\n",
              "          await google.colab.output.renderOutput(dataTable, element);\n",
              "          const docLink = document.createElement('div');\n",
              "          docLink.innerHTML = docLinkHtml;\n",
              "          element.appendChild(docLink);\n",
              "        }\n",
              "      </script>\n",
              "    </div>\n",
              "  </div>\n",
              "  "
            ]
          },
          "metadata": {},
          "execution_count": 31
        }
      ]
    },
    {
      "cell_type": "markdown",
      "source": [
        "Yes, I would recommend data partition before scoring the new record, because partitioning the data into training and validation sets is a standard practice in machine learning. By doing so, we can train the model on the training set and evaluate its performance on the validation set, which helps us to avoid overfitting the model to the training set and get a more accurate estimate of its performance on new, unseen data.\n",
        "\n",
        "Once we have trained and validated the model, we can use it to predict the class of the new wine record using the chosen value of k. This will require us to first standardize the data using the mean and standard deviation of the training set, and then apply the same transformation to the new record before passing it through the k-NN classifier."
      ],
      "metadata": {
        "id": "mBaNAFlKewOG"
      }
    },
    {
      "cell_type": "code",
      "metadata": {
        "id": "S8ID7J4hoo8e",
        "colab": {
          "base_uri": "https://localhost:8080/"
        },
        "outputId": "6bee8735-f91f-40da-fb71-745c8685efce"
      },
      "source": [
        "# Standardize the new record using the mean and standard deviation of the training set\n",
        "scaler = StandardScaler()\n",
        "X_train_std = scaler.fit_transform(X_train)\n",
        "X_val_std = scaler.transform(X_valid)\n",
        "new_wine_std = scaler.transform(new_wine)\n",
        "\n",
        "# Train and fit a k-NN classifier on the training set using the chosen k\n",
        "k = 5\n",
        "knn = KNeighborsClassifier(n_neighbors=k)\n",
        "knn.fit(X_train_std, y_train)\n",
        "\n",
        "# Predict the class of the new wine record using the fitted k-NN classifier\n",
        "new_wine_pred = knn.predict(new_wine_std)\n",
        "print(\"Predicted class label for the new wine record:\", new_wine_pred)"
      ],
      "execution_count": 34,
      "outputs": [
        {
          "output_type": "stream",
          "name": "stdout",
          "text": [
            "Predicted class label for the new wine record: [0]\n"
          ]
        },
        {
          "output_type": "stream",
          "name": "stderr",
          "text": [
            "/usr/local/lib/python3.9/dist-packages/sklearn/base.py:432: UserWarning: X has feature names, but StandardScaler was fitted without feature names\n",
            "  warnings.warn(\n"
          ]
        }
      ]
    },
    {
      "cell_type": "markdown",
      "metadata": {
        "id": "kUezdM7RpDDk"
      },
      "source": [
        "### Problem 3 ##"
      ]
    },
    {
      "cell_type": "markdown",
      "metadata": {
        "id": "HJty4hSgo7ER"
      },
      "source": [
        "The data concerns city-cycle fuel consumption in miles per gallon (mpg). The objective is to use k-NN classifier to predict the mpg with the given attributes."
      ]
    },
    {
      "cell_type": "code",
      "source": [
        "from sklearn import datasets\n",
        "import pandas as pd\n",
        "import numpy as np\n",
        "import seaborn as sns\n",
        "import matplotlib.pyplot as plt\n",
        "np.set_printoptions(suppress=True)\n",
        "from sklearn.model_selection import train_test_split\n",
        "from sklearn import linear_model\n",
        "from sklearn.linear_model import LinearRegression\n",
        "from sklearn.metrics import mean_squared_error\n",
        "from sklearn.metrics import r2_score\n",
        "from sklearn.linear_model import Lasso\n",
        "from sklearn.preprocessing import StandardScaler"
      ],
      "metadata": {
        "id": "yVZREgP-NhaZ"
      },
      "execution_count": 35,
      "outputs": []
    },
    {
      "cell_type": "code",
      "metadata": {
        "id": "viZfphuao7EV"
      },
      "source": [
        "#import the dataset \"auto_mpg.csv\"\n"
      ],
      "execution_count": 36,
      "outputs": []
    },
    {
      "cell_type": "code",
      "metadata": {
        "id": "05R9WLrTpijX",
        "colab": {
          "base_uri": "https://localhost:8080/",
          "height": 74
        },
        "outputId": "4f218de3-a887-4fa6-9e61-3501e1acac14"
      },
      "source": [
        "from google.colab import files\n",
        "file= files.upload()"
      ],
      "execution_count": 40,
      "outputs": [
        {
          "output_type": "display_data",
          "data": {
            "text/plain": [
              "<IPython.core.display.HTML object>"
            ],
            "text/html": [
              "\n",
              "     <input type=\"file\" id=\"files-f6cb271e-d149-47d7-9006-6dae1b08ae27\" name=\"files[]\" multiple disabled\n",
              "        style=\"border:none\" />\n",
              "     <output id=\"result-f6cb271e-d149-47d7-9006-6dae1b08ae27\">\n",
              "      Upload widget is only available when the cell has been executed in the\n",
              "      current browser session. Please rerun this cell to enable.\n",
              "      </output>\n",
              "      <script>// Copyright 2017 Google LLC\n",
              "//\n",
              "// Licensed under the Apache License, Version 2.0 (the \"License\");\n",
              "// you may not use this file except in compliance with the License.\n",
              "// You may obtain a copy of the License at\n",
              "//\n",
              "//      http://www.apache.org/licenses/LICENSE-2.0\n",
              "//\n",
              "// Unless required by applicable law or agreed to in writing, software\n",
              "// distributed under the License is distributed on an \"AS IS\" BASIS,\n",
              "// WITHOUT WARRANTIES OR CONDITIONS OF ANY KIND, either express or implied.\n",
              "// See the License for the specific language governing permissions and\n",
              "// limitations under the License.\n",
              "\n",
              "/**\n",
              " * @fileoverview Helpers for google.colab Python module.\n",
              " */\n",
              "(function(scope) {\n",
              "function span(text, styleAttributes = {}) {\n",
              "  const element = document.createElement('span');\n",
              "  element.textContent = text;\n",
              "  for (const key of Object.keys(styleAttributes)) {\n",
              "    element.style[key] = styleAttributes[key];\n",
              "  }\n",
              "  return element;\n",
              "}\n",
              "\n",
              "// Max number of bytes which will be uploaded at a time.\n",
              "const MAX_PAYLOAD_SIZE = 100 * 1024;\n",
              "\n",
              "function _uploadFiles(inputId, outputId) {\n",
              "  const steps = uploadFilesStep(inputId, outputId);\n",
              "  const outputElement = document.getElementById(outputId);\n",
              "  // Cache steps on the outputElement to make it available for the next call\n",
              "  // to uploadFilesContinue from Python.\n",
              "  outputElement.steps = steps;\n",
              "\n",
              "  return _uploadFilesContinue(outputId);\n",
              "}\n",
              "\n",
              "// This is roughly an async generator (not supported in the browser yet),\n",
              "// where there are multiple asynchronous steps and the Python side is going\n",
              "// to poll for completion of each step.\n",
              "// This uses a Promise to block the python side on completion of each step,\n",
              "// then passes the result of the previous step as the input to the next step.\n",
              "function _uploadFilesContinue(outputId) {\n",
              "  const outputElement = document.getElementById(outputId);\n",
              "  const steps = outputElement.steps;\n",
              "\n",
              "  const next = steps.next(outputElement.lastPromiseValue);\n",
              "  return Promise.resolve(next.value.promise).then((value) => {\n",
              "    // Cache the last promise value to make it available to the next\n",
              "    // step of the generator.\n",
              "    outputElement.lastPromiseValue = value;\n",
              "    return next.value.response;\n",
              "  });\n",
              "}\n",
              "\n",
              "/**\n",
              " * Generator function which is called between each async step of the upload\n",
              " * process.\n",
              " * @param {string} inputId Element ID of the input file picker element.\n",
              " * @param {string} outputId Element ID of the output display.\n",
              " * @return {!Iterable<!Object>} Iterable of next steps.\n",
              " */\n",
              "function* uploadFilesStep(inputId, outputId) {\n",
              "  const inputElement = document.getElementById(inputId);\n",
              "  inputElement.disabled = false;\n",
              "\n",
              "  const outputElement = document.getElementById(outputId);\n",
              "  outputElement.innerHTML = '';\n",
              "\n",
              "  const pickedPromise = new Promise((resolve) => {\n",
              "    inputElement.addEventListener('change', (e) => {\n",
              "      resolve(e.target.files);\n",
              "    });\n",
              "  });\n",
              "\n",
              "  const cancel = document.createElement('button');\n",
              "  inputElement.parentElement.appendChild(cancel);\n",
              "  cancel.textContent = 'Cancel upload';\n",
              "  const cancelPromise = new Promise((resolve) => {\n",
              "    cancel.onclick = () => {\n",
              "      resolve(null);\n",
              "    };\n",
              "  });\n",
              "\n",
              "  // Wait for the user to pick the files.\n",
              "  const files = yield {\n",
              "    promise: Promise.race([pickedPromise, cancelPromise]),\n",
              "    response: {\n",
              "      action: 'starting',\n",
              "    }\n",
              "  };\n",
              "\n",
              "  cancel.remove();\n",
              "\n",
              "  // Disable the input element since further picks are not allowed.\n",
              "  inputElement.disabled = true;\n",
              "\n",
              "  if (!files) {\n",
              "    return {\n",
              "      response: {\n",
              "        action: 'complete',\n",
              "      }\n",
              "    };\n",
              "  }\n",
              "\n",
              "  for (const file of files) {\n",
              "    const li = document.createElement('li');\n",
              "    li.append(span(file.name, {fontWeight: 'bold'}));\n",
              "    li.append(span(\n",
              "        `(${file.type || 'n/a'}) - ${file.size} bytes, ` +\n",
              "        `last modified: ${\n",
              "            file.lastModifiedDate ? file.lastModifiedDate.toLocaleDateString() :\n",
              "                                    'n/a'} - `));\n",
              "    const percent = span('0% done');\n",
              "    li.appendChild(percent);\n",
              "\n",
              "    outputElement.appendChild(li);\n",
              "\n",
              "    const fileDataPromise = new Promise((resolve) => {\n",
              "      const reader = new FileReader();\n",
              "      reader.onload = (e) => {\n",
              "        resolve(e.target.result);\n",
              "      };\n",
              "      reader.readAsArrayBuffer(file);\n",
              "    });\n",
              "    // Wait for the data to be ready.\n",
              "    let fileData = yield {\n",
              "      promise: fileDataPromise,\n",
              "      response: {\n",
              "        action: 'continue',\n",
              "      }\n",
              "    };\n",
              "\n",
              "    // Use a chunked sending to avoid message size limits. See b/62115660.\n",
              "    let position = 0;\n",
              "    do {\n",
              "      const length = Math.min(fileData.byteLength - position, MAX_PAYLOAD_SIZE);\n",
              "      const chunk = new Uint8Array(fileData, position, length);\n",
              "      position += length;\n",
              "\n",
              "      const base64 = btoa(String.fromCharCode.apply(null, chunk));\n",
              "      yield {\n",
              "        response: {\n",
              "          action: 'append',\n",
              "          file: file.name,\n",
              "          data: base64,\n",
              "        },\n",
              "      };\n",
              "\n",
              "      let percentDone = fileData.byteLength === 0 ?\n",
              "          100 :\n",
              "          Math.round((position / fileData.byteLength) * 100);\n",
              "      percent.textContent = `${percentDone}% done`;\n",
              "\n",
              "    } while (position < fileData.byteLength);\n",
              "  }\n",
              "\n",
              "  // All done.\n",
              "  yield {\n",
              "    response: {\n",
              "      action: 'complete',\n",
              "    }\n",
              "  };\n",
              "}\n",
              "\n",
              "scope.google = scope.google || {};\n",
              "scope.google.colab = scope.google.colab || {};\n",
              "scope.google.colab._files = {\n",
              "  _uploadFiles,\n",
              "  _uploadFilesContinue,\n",
              "};\n",
              "})(self);\n",
              "</script> "
            ]
          },
          "metadata": {}
        },
        {
          "output_type": "stream",
          "name": "stdout",
          "text": [
            "Saving auto_mpg (1).csv to auto_mpg (1) (3).csv\n"
          ]
        }
      ]
    },
    {
      "cell_type": "code",
      "source": [
        "df1=pd.read_csv(\"auto_mpg (1) (3).csv\")\n",
        "df1.head()"
      ],
      "metadata": {
        "colab": {
          "base_uri": "https://localhost:8080/",
          "height": 206
        },
        "id": "84VX8iC1foXl",
        "outputId": "ee113482-e7ce-4842-b764-a42bc0f55423"
      },
      "execution_count": 41,
      "outputs": [
        {
          "output_type": "execute_result",
          "data": {
            "text/plain": [
              "    mpg  cylinders  displacement horsepower  weight  acceleration  model year  \\\n",
              "0  18.0          8         307.0        130    3504          12.0          70   \n",
              "1  15.0          8         350.0        165    3693          11.5          70   \n",
              "2  18.0          8         318.0        150    3436          11.0          70   \n",
              "3  16.0          8         304.0        150    3433          12.0          70   \n",
              "4  17.0          8         302.0        140    3449          10.5          70   \n",
              "\n",
              "   origin                   car name  \n",
              "0       1  chevrolet chevelle malibu  \n",
              "1       1          buick skylark 320  \n",
              "2       1         plymouth satellite  \n",
              "3       1              amc rebel sst  \n",
              "4       1                ford torino  "
            ],
            "text/html": [
              "\n",
              "  <div id=\"df-2b9ac705-b10b-415b-aaf2-fa11c9ad6dea\">\n",
              "    <div class=\"colab-df-container\">\n",
              "      <div>\n",
              "<style scoped>\n",
              "    .dataframe tbody tr th:only-of-type {\n",
              "        vertical-align: middle;\n",
              "    }\n",
              "\n",
              "    .dataframe tbody tr th {\n",
              "        vertical-align: top;\n",
              "    }\n",
              "\n",
              "    .dataframe thead th {\n",
              "        text-align: right;\n",
              "    }\n",
              "</style>\n",
              "<table border=\"1\" class=\"dataframe\">\n",
              "  <thead>\n",
              "    <tr style=\"text-align: right;\">\n",
              "      <th></th>\n",
              "      <th>mpg</th>\n",
              "      <th>cylinders</th>\n",
              "      <th>displacement</th>\n",
              "      <th>horsepower</th>\n",
              "      <th>weight</th>\n",
              "      <th>acceleration</th>\n",
              "      <th>model year</th>\n",
              "      <th>origin</th>\n",
              "      <th>car name</th>\n",
              "    </tr>\n",
              "  </thead>\n",
              "  <tbody>\n",
              "    <tr>\n",
              "      <th>0</th>\n",
              "      <td>18.0</td>\n",
              "      <td>8</td>\n",
              "      <td>307.0</td>\n",
              "      <td>130</td>\n",
              "      <td>3504</td>\n",
              "      <td>12.0</td>\n",
              "      <td>70</td>\n",
              "      <td>1</td>\n",
              "      <td>chevrolet chevelle malibu</td>\n",
              "    </tr>\n",
              "    <tr>\n",
              "      <th>1</th>\n",
              "      <td>15.0</td>\n",
              "      <td>8</td>\n",
              "      <td>350.0</td>\n",
              "      <td>165</td>\n",
              "      <td>3693</td>\n",
              "      <td>11.5</td>\n",
              "      <td>70</td>\n",
              "      <td>1</td>\n",
              "      <td>buick skylark 320</td>\n",
              "    </tr>\n",
              "    <tr>\n",
              "      <th>2</th>\n",
              "      <td>18.0</td>\n",
              "      <td>8</td>\n",
              "      <td>318.0</td>\n",
              "      <td>150</td>\n",
              "      <td>3436</td>\n",
              "      <td>11.0</td>\n",
              "      <td>70</td>\n",
              "      <td>1</td>\n",
              "      <td>plymouth satellite</td>\n",
              "    </tr>\n",
              "    <tr>\n",
              "      <th>3</th>\n",
              "      <td>16.0</td>\n",
              "      <td>8</td>\n",
              "      <td>304.0</td>\n",
              "      <td>150</td>\n",
              "      <td>3433</td>\n",
              "      <td>12.0</td>\n",
              "      <td>70</td>\n",
              "      <td>1</td>\n",
              "      <td>amc rebel sst</td>\n",
              "    </tr>\n",
              "    <tr>\n",
              "      <th>4</th>\n",
              "      <td>17.0</td>\n",
              "      <td>8</td>\n",
              "      <td>302.0</td>\n",
              "      <td>140</td>\n",
              "      <td>3449</td>\n",
              "      <td>10.5</td>\n",
              "      <td>70</td>\n",
              "      <td>1</td>\n",
              "      <td>ford torino</td>\n",
              "    </tr>\n",
              "  </tbody>\n",
              "</table>\n",
              "</div>\n",
              "      <button class=\"colab-df-convert\" onclick=\"convertToInteractive('df-2b9ac705-b10b-415b-aaf2-fa11c9ad6dea')\"\n",
              "              title=\"Convert this dataframe to an interactive table.\"\n",
              "              style=\"display:none;\">\n",
              "        \n",
              "  <svg xmlns=\"http://www.w3.org/2000/svg\" height=\"24px\"viewBox=\"0 0 24 24\"\n",
              "       width=\"24px\">\n",
              "    <path d=\"M0 0h24v24H0V0z\" fill=\"none\"/>\n",
              "    <path d=\"M18.56 5.44l.94 2.06.94-2.06 2.06-.94-2.06-.94-.94-2.06-.94 2.06-2.06.94zm-11 1L8.5 8.5l.94-2.06 2.06-.94-2.06-.94L8.5 2.5l-.94 2.06-2.06.94zm10 10l.94 2.06.94-2.06 2.06-.94-2.06-.94-.94-2.06-.94 2.06-2.06.94z\"/><path d=\"M17.41 7.96l-1.37-1.37c-.4-.4-.92-.59-1.43-.59-.52 0-1.04.2-1.43.59L10.3 9.45l-7.72 7.72c-.78.78-.78 2.05 0 2.83L4 21.41c.39.39.9.59 1.41.59.51 0 1.02-.2 1.41-.59l7.78-7.78 2.81-2.81c.8-.78.8-2.07 0-2.86zM5.41 20L4 18.59l7.72-7.72 1.47 1.35L5.41 20z\"/>\n",
              "  </svg>\n",
              "      </button>\n",
              "      \n",
              "  <style>\n",
              "    .colab-df-container {\n",
              "      display:flex;\n",
              "      flex-wrap:wrap;\n",
              "      gap: 12px;\n",
              "    }\n",
              "\n",
              "    .colab-df-convert {\n",
              "      background-color: #E8F0FE;\n",
              "      border: none;\n",
              "      border-radius: 50%;\n",
              "      cursor: pointer;\n",
              "      display: none;\n",
              "      fill: #1967D2;\n",
              "      height: 32px;\n",
              "      padding: 0 0 0 0;\n",
              "      width: 32px;\n",
              "    }\n",
              "\n",
              "    .colab-df-convert:hover {\n",
              "      background-color: #E2EBFA;\n",
              "      box-shadow: 0px 1px 2px rgba(60, 64, 67, 0.3), 0px 1px 3px 1px rgba(60, 64, 67, 0.15);\n",
              "      fill: #174EA6;\n",
              "    }\n",
              "\n",
              "    [theme=dark] .colab-df-convert {\n",
              "      background-color: #3B4455;\n",
              "      fill: #D2E3FC;\n",
              "    }\n",
              "\n",
              "    [theme=dark] .colab-df-convert:hover {\n",
              "      background-color: #434B5C;\n",
              "      box-shadow: 0px 1px 3px 1px rgba(0, 0, 0, 0.15);\n",
              "      filter: drop-shadow(0px 1px 2px rgba(0, 0, 0, 0.3));\n",
              "      fill: #FFFFFF;\n",
              "    }\n",
              "  </style>\n",
              "\n",
              "      <script>\n",
              "        const buttonEl =\n",
              "          document.querySelector('#df-2b9ac705-b10b-415b-aaf2-fa11c9ad6dea button.colab-df-convert');\n",
              "        buttonEl.style.display =\n",
              "          google.colab.kernel.accessAllowed ? 'block' : 'none';\n",
              "\n",
              "        async function convertToInteractive(key) {\n",
              "          const element = document.querySelector('#df-2b9ac705-b10b-415b-aaf2-fa11c9ad6dea');\n",
              "          const dataTable =\n",
              "            await google.colab.kernel.invokeFunction('convertToInteractive',\n",
              "                                                     [key], {});\n",
              "          if (!dataTable) return;\n",
              "\n",
              "          const docLinkHtml = 'Like what you see? Visit the ' +\n",
              "            '<a target=\"_blank\" href=https://colab.research.google.com/notebooks/data_table.ipynb>data table notebook</a>'\n",
              "            + ' to learn more about interactive tables.';\n",
              "          element.innerHTML = '';\n",
              "          dataTable['output_type'] = 'display_data';\n",
              "          await google.colab.output.renderOutput(dataTable, element);\n",
              "          const docLink = document.createElement('div');\n",
              "          docLink.innerHTML = docLinkHtml;\n",
              "          element.appendChild(docLink);\n",
              "        }\n",
              "      </script>\n",
              "    </div>\n",
              "  </div>\n",
              "  "
            ]
          },
          "metadata": {},
          "execution_count": 41
        }
      ]
    },
    {
      "cell_type": "markdown",
      "source": [
        "**TODO 1**\n",
        "\n",
        "Check the unique value of the variable \"car name\". \n",
        "\n",
        "Would you recommend keeping \"car name\" for prediction? Why? \n",
        "\n",
        "If not, eliminate the variable \"car name\"."
      ],
      "metadata": {
        "id": "h_MotqcyOQmx"
      }
    },
    {
      "cell_type": "code",
      "source": [
        "df1[\"car name\"].value_counts()"
      ],
      "metadata": {
        "colab": {
          "base_uri": "https://localhost:8080/"
        },
        "id": "H3BjXoPKORx4",
        "outputId": "aaf82e3f-16ca-4fee-b6a8-e942eb58f544"
      },
      "execution_count": 42,
      "outputs": [
        {
          "output_type": "execute_result",
          "data": {
            "text/plain": [
              "amc matador            5\n",
              "ford pinto             5\n",
              "ford maverick          5\n",
              "toyota corolla         5\n",
              "toyota corona          4\n",
              "                      ..\n",
              "buick skyhawk          1\n",
              "chevrolet monza 2+2    1\n",
              "ford mustang ii        1\n",
              "pontiac astro          1\n",
              "chevy s-10             1\n",
              "Name: car name, Length: 301, dtype: int64"
            ]
          },
          "metadata": {},
          "execution_count": 42
        }
      ]
    },
    {
      "cell_type": "code",
      "source": [
        "df1=df1.drop([\"car name\"],axis=1)"
      ],
      "metadata": {
        "id": "YCMUKdp3OqN8"
      },
      "execution_count": 43,
      "outputs": []
    },
    {
      "cell_type": "markdown",
      "source": [
        "the attribute we are predicting is mpg(miles per gallon). since it has no dependance on car name, we will be dropping it"
      ],
      "metadata": {
        "id": "0V08g6ztOy0G"
      }
    },
    {
      "cell_type": "markdown",
      "metadata": {
        "id": "H8XjK4Fro7EW"
      },
      "source": [
        "**TODO 2**\n",
        "\n",
        "Convert the variable \"origin\" to dummy variables before modeling"
      ]
    },
    {
      "cell_type": "code",
      "metadata": {
        "id": "FnkWQelTpkZI",
        "colab": {
          "base_uri": "https://localhost:8080/",
          "height": 206
        },
        "outputId": "0a7bcb2f-ef0e-4482-9a75-2421cda3513c"
      },
      "source": [
        "dummy=pd.get_dummies(df1['origin']).rename(columns=lambda x:'Origin-' + str(x))\n",
        "df1=pd.concat([df1,dummy],axis=1)\n",
        "df1.head()\n"
      ],
      "execution_count": 44,
      "outputs": [
        {
          "output_type": "execute_result",
          "data": {
            "text/plain": [
              "    mpg  cylinders  displacement horsepower  weight  acceleration  model year  \\\n",
              "0  18.0          8         307.0        130    3504          12.0          70   \n",
              "1  15.0          8         350.0        165    3693          11.5          70   \n",
              "2  18.0          8         318.0        150    3436          11.0          70   \n",
              "3  16.0          8         304.0        150    3433          12.0          70   \n",
              "4  17.0          8         302.0        140    3449          10.5          70   \n",
              "\n",
              "   origin  Origin-1  Origin-2  Origin-3  \n",
              "0       1         1         0         0  \n",
              "1       1         1         0         0  \n",
              "2       1         1         0         0  \n",
              "3       1         1         0         0  \n",
              "4       1         1         0         0  "
            ],
            "text/html": [
              "\n",
              "  <div id=\"df-377b6f4f-d62f-47ca-b2e7-92518c6de258\">\n",
              "    <div class=\"colab-df-container\">\n",
              "      <div>\n",
              "<style scoped>\n",
              "    .dataframe tbody tr th:only-of-type {\n",
              "        vertical-align: middle;\n",
              "    }\n",
              "\n",
              "    .dataframe tbody tr th {\n",
              "        vertical-align: top;\n",
              "    }\n",
              "\n",
              "    .dataframe thead th {\n",
              "        text-align: right;\n",
              "    }\n",
              "</style>\n",
              "<table border=\"1\" class=\"dataframe\">\n",
              "  <thead>\n",
              "    <tr style=\"text-align: right;\">\n",
              "      <th></th>\n",
              "      <th>mpg</th>\n",
              "      <th>cylinders</th>\n",
              "      <th>displacement</th>\n",
              "      <th>horsepower</th>\n",
              "      <th>weight</th>\n",
              "      <th>acceleration</th>\n",
              "      <th>model year</th>\n",
              "      <th>origin</th>\n",
              "      <th>Origin-1</th>\n",
              "      <th>Origin-2</th>\n",
              "      <th>Origin-3</th>\n",
              "    </tr>\n",
              "  </thead>\n",
              "  <tbody>\n",
              "    <tr>\n",
              "      <th>0</th>\n",
              "      <td>18.0</td>\n",
              "      <td>8</td>\n",
              "      <td>307.0</td>\n",
              "      <td>130</td>\n",
              "      <td>3504</td>\n",
              "      <td>12.0</td>\n",
              "      <td>70</td>\n",
              "      <td>1</td>\n",
              "      <td>1</td>\n",
              "      <td>0</td>\n",
              "      <td>0</td>\n",
              "    </tr>\n",
              "    <tr>\n",
              "      <th>1</th>\n",
              "      <td>15.0</td>\n",
              "      <td>8</td>\n",
              "      <td>350.0</td>\n",
              "      <td>165</td>\n",
              "      <td>3693</td>\n",
              "      <td>11.5</td>\n",
              "      <td>70</td>\n",
              "      <td>1</td>\n",
              "      <td>1</td>\n",
              "      <td>0</td>\n",
              "      <td>0</td>\n",
              "    </tr>\n",
              "    <tr>\n",
              "      <th>2</th>\n",
              "      <td>18.0</td>\n",
              "      <td>8</td>\n",
              "      <td>318.0</td>\n",
              "      <td>150</td>\n",
              "      <td>3436</td>\n",
              "      <td>11.0</td>\n",
              "      <td>70</td>\n",
              "      <td>1</td>\n",
              "      <td>1</td>\n",
              "      <td>0</td>\n",
              "      <td>0</td>\n",
              "    </tr>\n",
              "    <tr>\n",
              "      <th>3</th>\n",
              "      <td>16.0</td>\n",
              "      <td>8</td>\n",
              "      <td>304.0</td>\n",
              "      <td>150</td>\n",
              "      <td>3433</td>\n",
              "      <td>12.0</td>\n",
              "      <td>70</td>\n",
              "      <td>1</td>\n",
              "      <td>1</td>\n",
              "      <td>0</td>\n",
              "      <td>0</td>\n",
              "    </tr>\n",
              "    <tr>\n",
              "      <th>4</th>\n",
              "      <td>17.0</td>\n",
              "      <td>8</td>\n",
              "      <td>302.0</td>\n",
              "      <td>140</td>\n",
              "      <td>3449</td>\n",
              "      <td>10.5</td>\n",
              "      <td>70</td>\n",
              "      <td>1</td>\n",
              "      <td>1</td>\n",
              "      <td>0</td>\n",
              "      <td>0</td>\n",
              "    </tr>\n",
              "  </tbody>\n",
              "</table>\n",
              "</div>\n",
              "      <button class=\"colab-df-convert\" onclick=\"convertToInteractive('df-377b6f4f-d62f-47ca-b2e7-92518c6de258')\"\n",
              "              title=\"Convert this dataframe to an interactive table.\"\n",
              "              style=\"display:none;\">\n",
              "        \n",
              "  <svg xmlns=\"http://www.w3.org/2000/svg\" height=\"24px\"viewBox=\"0 0 24 24\"\n",
              "       width=\"24px\">\n",
              "    <path d=\"M0 0h24v24H0V0z\" fill=\"none\"/>\n",
              "    <path d=\"M18.56 5.44l.94 2.06.94-2.06 2.06-.94-2.06-.94-.94-2.06-.94 2.06-2.06.94zm-11 1L8.5 8.5l.94-2.06 2.06-.94-2.06-.94L8.5 2.5l-.94 2.06-2.06.94zm10 10l.94 2.06.94-2.06 2.06-.94-2.06-.94-.94-2.06-.94 2.06-2.06.94z\"/><path d=\"M17.41 7.96l-1.37-1.37c-.4-.4-.92-.59-1.43-.59-.52 0-1.04.2-1.43.59L10.3 9.45l-7.72 7.72c-.78.78-.78 2.05 0 2.83L4 21.41c.39.39.9.59 1.41.59.51 0 1.02-.2 1.41-.59l7.78-7.78 2.81-2.81c.8-.78.8-2.07 0-2.86zM5.41 20L4 18.59l7.72-7.72 1.47 1.35L5.41 20z\"/>\n",
              "  </svg>\n",
              "      </button>\n",
              "      \n",
              "  <style>\n",
              "    .colab-df-container {\n",
              "      display:flex;\n",
              "      flex-wrap:wrap;\n",
              "      gap: 12px;\n",
              "    }\n",
              "\n",
              "    .colab-df-convert {\n",
              "      background-color: #E8F0FE;\n",
              "      border: none;\n",
              "      border-radius: 50%;\n",
              "      cursor: pointer;\n",
              "      display: none;\n",
              "      fill: #1967D2;\n",
              "      height: 32px;\n",
              "      padding: 0 0 0 0;\n",
              "      width: 32px;\n",
              "    }\n",
              "\n",
              "    .colab-df-convert:hover {\n",
              "      background-color: #E2EBFA;\n",
              "      box-shadow: 0px 1px 2px rgba(60, 64, 67, 0.3), 0px 1px 3px 1px rgba(60, 64, 67, 0.15);\n",
              "      fill: #174EA6;\n",
              "    }\n",
              "\n",
              "    [theme=dark] .colab-df-convert {\n",
              "      background-color: #3B4455;\n",
              "      fill: #D2E3FC;\n",
              "    }\n",
              "\n",
              "    [theme=dark] .colab-df-convert:hover {\n",
              "      background-color: #434B5C;\n",
              "      box-shadow: 0px 1px 3px 1px rgba(0, 0, 0, 0.15);\n",
              "      filter: drop-shadow(0px 1px 2px rgba(0, 0, 0, 0.3));\n",
              "      fill: #FFFFFF;\n",
              "    }\n",
              "  </style>\n",
              "\n",
              "      <script>\n",
              "        const buttonEl =\n",
              "          document.querySelector('#df-377b6f4f-d62f-47ca-b2e7-92518c6de258 button.colab-df-convert');\n",
              "        buttonEl.style.display =\n",
              "          google.colab.kernel.accessAllowed ? 'block' : 'none';\n",
              "\n",
              "        async function convertToInteractive(key) {\n",
              "          const element = document.querySelector('#df-377b6f4f-d62f-47ca-b2e7-92518c6de258');\n",
              "          const dataTable =\n",
              "            await google.colab.kernel.invokeFunction('convertToInteractive',\n",
              "                                                     [key], {});\n",
              "          if (!dataTable) return;\n",
              "\n",
              "          const docLinkHtml = 'Like what you see? Visit the ' +\n",
              "            '<a target=\"_blank\" href=https://colab.research.google.com/notebooks/data_table.ipynb>data table notebook</a>'\n",
              "            + ' to learn more about interactive tables.';\n",
              "          element.innerHTML = '';\n",
              "          dataTable['output_type'] = 'display_data';\n",
              "          await google.colab.output.renderOutput(dataTable, element);\n",
              "          const docLink = document.createElement('div');\n",
              "          docLink.innerHTML = docLinkHtml;\n",
              "          element.appendChild(docLink);\n",
              "        }\n",
              "      </script>\n",
              "    </div>\n",
              "  </div>\n",
              "  "
            ]
          },
          "metadata": {},
          "execution_count": 44
        }
      ]
    },
    {
      "cell_type": "code",
      "source": [
        "df1=df1.replace('?', np.nan)\n",
        "df1.isnull().sum()"
      ],
      "metadata": {
        "colab": {
          "base_uri": "https://localhost:8080/"
        },
        "id": "DSLIFe1ePq02",
        "outputId": "af76f712-b396-429b-eb6e-39478e657d44"
      },
      "execution_count": 45,
      "outputs": [
        {
          "output_type": "execute_result",
          "data": {
            "text/plain": [
              "mpg             0\n",
              "cylinders       0\n",
              "displacement    0\n",
              "horsepower      1\n",
              "weight          0\n",
              "acceleration    0\n",
              "model year      0\n",
              "origin          0\n",
              "Origin-1        0\n",
              "Origin-2        0\n",
              "Origin-3        0\n",
              "dtype: int64"
            ]
          },
          "metadata": {},
          "execution_count": 45
        }
      ]
    },
    {
      "cell_type": "markdown",
      "source": [
        "replacing '?' with nan values"
      ],
      "metadata": {
        "id": "QbCa4i5XP10N"
      }
    },
    {
      "cell_type": "code",
      "source": [
        "df1['horsepower'].fillna(method='ffill', inplace=True)\n",
        "df1.isnull().sum()"
      ],
      "metadata": {
        "colab": {
          "base_uri": "https://localhost:8080/"
        },
        "id": "wQplJaebP9M3",
        "outputId": "cc7a6a41-a09b-4441-ab93-0bcf5199b881"
      },
      "execution_count": 46,
      "outputs": [
        {
          "output_type": "execute_result",
          "data": {
            "text/plain": [
              "mpg             0\n",
              "cylinders       0\n",
              "displacement    0\n",
              "horsepower      0\n",
              "weight          0\n",
              "acceleration    0\n",
              "model year      0\n",
              "origin          0\n",
              "Origin-1        0\n",
              "Origin-2        0\n",
              "Origin-3        0\n",
              "dtype: int64"
            ]
          },
          "metadata": {},
          "execution_count": 46
        }
      ]
    },
    {
      "cell_type": "markdown",
      "metadata": {
        "id": "gcjzpN38o7EY"
      },
      "source": [
        "**TODO 3**\n",
        "\n",
        "Rescale the numeric data. Note that dummy variables should not be rescaled."
      ]
    },
    {
      "cell_type": "code",
      "metadata": {
        "id": "DcCDLUdwppqS",
        "colab": {
          "base_uri": "https://localhost:8080/",
          "height": 206
        },
        "outputId": "f573e92c-504e-43c4-da8f-75bf43b0ce98"
      },
      "source": [
        "scaler=StandardScaler()\n",
        "df1[['displacement','cylinders','horsepower','weight','acceleration','mpg']]=scaler.fit_transform(df1[['displacement','cylinders','horsepower','weight','acceleration','mpg']])\n",
        "df1.head()"
      ],
      "execution_count": 47,
      "outputs": [
        {
          "output_type": "execute_result",
          "data": {
            "text/plain": [
              "        mpg  cylinders  displacement  horsepower    weight  acceleration  \\\n",
              "0 -0.698642   1.484867      1.078523    0.665556  0.621628     -1.287786   \n",
              "1 -1.083944   1.484867      1.490488    1.577107  0.844701     -1.469418   \n",
              "2 -0.698642   1.484867      1.183909    1.186442  0.541369     -1.651050   \n",
              "3 -0.955510   1.484867      1.049781    1.186442  0.537828     -1.287786   \n",
              "4 -0.827076   1.484867      1.030620    0.925999  0.556712     -1.832683   \n",
              "\n",
              "   model year  origin  Origin-1  Origin-2  Origin-3  \n",
              "0          70       1         1         0         0  \n",
              "1          70       1         1         0         0  \n",
              "2          70       1         1         0         0  \n",
              "3          70       1         1         0         0  \n",
              "4          70       1         1         0         0  "
            ],
            "text/html": [
              "\n",
              "  <div id=\"df-d737186e-f0b7-485a-a792-161a8fc87b9b\">\n",
              "    <div class=\"colab-df-container\">\n",
              "      <div>\n",
              "<style scoped>\n",
              "    .dataframe tbody tr th:only-of-type {\n",
              "        vertical-align: middle;\n",
              "    }\n",
              "\n",
              "    .dataframe tbody tr th {\n",
              "        vertical-align: top;\n",
              "    }\n",
              "\n",
              "    .dataframe thead th {\n",
              "        text-align: right;\n",
              "    }\n",
              "</style>\n",
              "<table border=\"1\" class=\"dataframe\">\n",
              "  <thead>\n",
              "    <tr style=\"text-align: right;\">\n",
              "      <th></th>\n",
              "      <th>mpg</th>\n",
              "      <th>cylinders</th>\n",
              "      <th>displacement</th>\n",
              "      <th>horsepower</th>\n",
              "      <th>weight</th>\n",
              "      <th>acceleration</th>\n",
              "      <th>model year</th>\n",
              "      <th>origin</th>\n",
              "      <th>Origin-1</th>\n",
              "      <th>Origin-2</th>\n",
              "      <th>Origin-3</th>\n",
              "    </tr>\n",
              "  </thead>\n",
              "  <tbody>\n",
              "    <tr>\n",
              "      <th>0</th>\n",
              "      <td>-0.698642</td>\n",
              "      <td>1.484867</td>\n",
              "      <td>1.078523</td>\n",
              "      <td>0.665556</td>\n",
              "      <td>0.621628</td>\n",
              "      <td>-1.287786</td>\n",
              "      <td>70</td>\n",
              "      <td>1</td>\n",
              "      <td>1</td>\n",
              "      <td>0</td>\n",
              "      <td>0</td>\n",
              "    </tr>\n",
              "    <tr>\n",
              "      <th>1</th>\n",
              "      <td>-1.083944</td>\n",
              "      <td>1.484867</td>\n",
              "      <td>1.490488</td>\n",
              "      <td>1.577107</td>\n",
              "      <td>0.844701</td>\n",
              "      <td>-1.469418</td>\n",
              "      <td>70</td>\n",
              "      <td>1</td>\n",
              "      <td>1</td>\n",
              "      <td>0</td>\n",
              "      <td>0</td>\n",
              "    </tr>\n",
              "    <tr>\n",
              "      <th>2</th>\n",
              "      <td>-0.698642</td>\n",
              "      <td>1.484867</td>\n",
              "      <td>1.183909</td>\n",
              "      <td>1.186442</td>\n",
              "      <td>0.541369</td>\n",
              "      <td>-1.651050</td>\n",
              "      <td>70</td>\n",
              "      <td>1</td>\n",
              "      <td>1</td>\n",
              "      <td>0</td>\n",
              "      <td>0</td>\n",
              "    </tr>\n",
              "    <tr>\n",
              "      <th>3</th>\n",
              "      <td>-0.955510</td>\n",
              "      <td>1.484867</td>\n",
              "      <td>1.049781</td>\n",
              "      <td>1.186442</td>\n",
              "      <td>0.537828</td>\n",
              "      <td>-1.287786</td>\n",
              "      <td>70</td>\n",
              "      <td>1</td>\n",
              "      <td>1</td>\n",
              "      <td>0</td>\n",
              "      <td>0</td>\n",
              "    </tr>\n",
              "    <tr>\n",
              "      <th>4</th>\n",
              "      <td>-0.827076</td>\n",
              "      <td>1.484867</td>\n",
              "      <td>1.030620</td>\n",
              "      <td>0.925999</td>\n",
              "      <td>0.556712</td>\n",
              "      <td>-1.832683</td>\n",
              "      <td>70</td>\n",
              "      <td>1</td>\n",
              "      <td>1</td>\n",
              "      <td>0</td>\n",
              "      <td>0</td>\n",
              "    </tr>\n",
              "  </tbody>\n",
              "</table>\n",
              "</div>\n",
              "      <button class=\"colab-df-convert\" onclick=\"convertToInteractive('df-d737186e-f0b7-485a-a792-161a8fc87b9b')\"\n",
              "              title=\"Convert this dataframe to an interactive table.\"\n",
              "              style=\"display:none;\">\n",
              "        \n",
              "  <svg xmlns=\"http://www.w3.org/2000/svg\" height=\"24px\"viewBox=\"0 0 24 24\"\n",
              "       width=\"24px\">\n",
              "    <path d=\"M0 0h24v24H0V0z\" fill=\"none\"/>\n",
              "    <path d=\"M18.56 5.44l.94 2.06.94-2.06 2.06-.94-2.06-.94-.94-2.06-.94 2.06-2.06.94zm-11 1L8.5 8.5l.94-2.06 2.06-.94-2.06-.94L8.5 2.5l-.94 2.06-2.06.94zm10 10l.94 2.06.94-2.06 2.06-.94-2.06-.94-.94-2.06-.94 2.06-2.06.94z\"/><path d=\"M17.41 7.96l-1.37-1.37c-.4-.4-.92-.59-1.43-.59-.52 0-1.04.2-1.43.59L10.3 9.45l-7.72 7.72c-.78.78-.78 2.05 0 2.83L4 21.41c.39.39.9.59 1.41.59.51 0 1.02-.2 1.41-.59l7.78-7.78 2.81-2.81c.8-.78.8-2.07 0-2.86zM5.41 20L4 18.59l7.72-7.72 1.47 1.35L5.41 20z\"/>\n",
              "  </svg>\n",
              "      </button>\n",
              "      \n",
              "  <style>\n",
              "    .colab-df-container {\n",
              "      display:flex;\n",
              "      flex-wrap:wrap;\n",
              "      gap: 12px;\n",
              "    }\n",
              "\n",
              "    .colab-df-convert {\n",
              "      background-color: #E8F0FE;\n",
              "      border: none;\n",
              "      border-radius: 50%;\n",
              "      cursor: pointer;\n",
              "      display: none;\n",
              "      fill: #1967D2;\n",
              "      height: 32px;\n",
              "      padding: 0 0 0 0;\n",
              "      width: 32px;\n",
              "    }\n",
              "\n",
              "    .colab-df-convert:hover {\n",
              "      background-color: #E2EBFA;\n",
              "      box-shadow: 0px 1px 2px rgba(60, 64, 67, 0.3), 0px 1px 3px 1px rgba(60, 64, 67, 0.15);\n",
              "      fill: #174EA6;\n",
              "    }\n",
              "\n",
              "    [theme=dark] .colab-df-convert {\n",
              "      background-color: #3B4455;\n",
              "      fill: #D2E3FC;\n",
              "    }\n",
              "\n",
              "    [theme=dark] .colab-df-convert:hover {\n",
              "      background-color: #434B5C;\n",
              "      box-shadow: 0px 1px 3px 1px rgba(0, 0, 0, 0.15);\n",
              "      filter: drop-shadow(0px 1px 2px rgba(0, 0, 0, 0.3));\n",
              "      fill: #FFFFFF;\n",
              "    }\n",
              "  </style>\n",
              "\n",
              "      <script>\n",
              "        const buttonEl =\n",
              "          document.querySelector('#df-d737186e-f0b7-485a-a792-161a8fc87b9b button.colab-df-convert');\n",
              "        buttonEl.style.display =\n",
              "          google.colab.kernel.accessAllowed ? 'block' : 'none';\n",
              "\n",
              "        async function convertToInteractive(key) {\n",
              "          const element = document.querySelector('#df-d737186e-f0b7-485a-a792-161a8fc87b9b');\n",
              "          const dataTable =\n",
              "            await google.colab.kernel.invokeFunction('convertToInteractive',\n",
              "                                                     [key], {});\n",
              "          if (!dataTable) return;\n",
              "\n",
              "          const docLinkHtml = 'Like what you see? Visit the ' +\n",
              "            '<a target=\"_blank\" href=https://colab.research.google.com/notebooks/data_table.ipynb>data table notebook</a>'\n",
              "            + ' to learn more about interactive tables.';\n",
              "          element.innerHTML = '';\n",
              "          dataTable['output_type'] = 'display_data';\n",
              "          await google.colab.output.renderOutput(dataTable, element);\n",
              "          const docLink = document.createElement('div');\n",
              "          docLink.innerHTML = docLinkHtml;\n",
              "          element.appendChild(docLink);\n",
              "        }\n",
              "      </script>\n",
              "    </div>\n",
              "  </div>\n",
              "  "
            ]
          },
          "metadata": {},
          "execution_count": 47
        }
      ]
    },
    {
      "cell_type": "code",
      "source": [
        "y=df1['mpg'] #target variable is mpg"
      ],
      "metadata": {
        "id": "HTRHyGINRb5U"
      },
      "execution_count": 48,
      "outputs": []
    },
    {
      "cell_type": "code",
      "source": [
        "df1=df1.drop(['mpg','origin'],axis=1) #dropping target variable and orgin, to split the predictors and response variables"
      ],
      "metadata": {
        "id": "CsBFyQvxRmtB"
      },
      "execution_count": 49,
      "outputs": []
    },
    {
      "cell_type": "markdown",
      "metadata": {
        "id": "DR8h9hqbo7EY"
      },
      "source": [
        "**TODO 4**\n",
        "\n",
        "Partition the data into 75% training and 25% validation set."
      ]
    },
    {
      "cell_type": "code",
      "metadata": {
        "id": "ltjfdOwhpwcn"
      },
      "source": [
        "Xtrain, Xvalid, Ytrain, Yvalid=train_test_split(df1,y,random_state=42, test_size=0.25)"
      ],
      "execution_count": 50,
      "outputs": []
    },
    {
      "cell_type": "markdown",
      "metadata": {
        "id": "ezvy0kvYo7EZ"
      },
      "source": [
        "**TODO 5**\n",
        "\n",
        "Choose the best k from 1-10 based on the MSE of different k values on the validation set. Explain the reason for your choice."
      ]
    },
    {
      "cell_type": "code",
      "metadata": {
        "id": "Agdd1CYPp2rC",
        "colab": {
          "base_uri": "https://localhost:8080/"
        },
        "outputId": "2fc40ec1-dd6a-43b7-d3a6-679f2fe3f85f"
      },
      "source": [
        "from sklearn import neighbors\n",
        "mse_value=[]\n",
        "for i in range(1,10):\n",
        "  knn=neighbors.KNeighborsRegressor(n_neighbors=i)\n",
        "  knn.fit(Xtrain,Ytrain)\n",
        "  predict=knn.predict(Xvalid)\n",
        "  mse=mean_squared_error(Yvalid,predict)\n",
        "  mse_value.append(mse)\n",
        "  print('For k value:', i,'MSE value is:',mse)"
      ],
      "execution_count": 51,
      "outputs": [
        {
          "output_type": "stream",
          "name": "stdout",
          "text": [
            "For k value: 1 MSE value is: 0.24970393121426754\n",
            "For k value: 2 MSE value is: 0.18015830808054642\n",
            "For k value: 3 MSE value is: 0.16465480390034454\n",
            "For k value: 4 MSE value is: 0.17056968295359212\n",
            "For k value: 5 MSE value is: 0.17426540194020643\n",
            "For k value: 6 MSE value is: 0.1759611693041227\n",
            "For k value: 7 MSE value is: 0.17549607208462983\n",
            "For k value: 8 MSE value is: 0.18412863640999094\n",
            "For k value: 9 MSE value is: 0.18002458585145867\n"
          ]
        }
      ]
    },
    {
      "cell_type": "markdown",
      "source": [
        "we can see that the lowest MSE value is achieved at k=3, which is consistent with the previous analysis. Therefore, we can choose k=3 as the best value for this KNN regression model."
      ],
      "metadata": {
        "id": "tgXcxCTNgZta"
      }
    },
    {
      "cell_type": "markdown",
      "metadata": {
        "id": "MLdN-jMIp4-2"
      },
      "source": [
        "**TODO 6**\n",
        "\n",
        "\n",
        "Score the validation set with the best k. Comment on the model performance."
      ]
    },
    {
      "cell_type": "code",
      "source": [
        "from sklearn.metrics import mean_absolute_error\n",
        "from sklearn.metrics import mean_squared_error\n",
        "\n",
        "\n",
        "knn = neighbors.KNeighborsRegressor(n_neighbors =3)\n",
        "\n",
        "knn.fit(Xtrain,Ytrain)\n",
        "pred_1 = knn.predict(Xvalid)\n",
        "\n",
        "print('Using k =3,these are the error metrics:')\n",
        "print('Mean squared Error:',mean_squared_error(Yvalid,pred_1))\n",
        "print('Root Mean Squared Error:', np.sqrt(mean_squared_error(Yvalid,pred_1)))\n",
        "print('Mean Absolute Error:', mean_absolute_error(Yvalid,pred_1))\n"
      ],
      "metadata": {
        "colab": {
          "base_uri": "https://localhost:8080/"
        },
        "id": "MctUzpT9VLMH",
        "outputId": "1d4ad89b-bc73-488d-d380-3782659945fc"
      },
      "execution_count": 52,
      "outputs": [
        {
          "output_type": "stream",
          "name": "stdout",
          "text": [
            "Using k =3,these are the error metrics:\n",
            "Mean squared Error: 0.16465480390034454\n",
            "Root Mean Squared Error: 0.40577679073641526\n",
            "Mean Absolute Error: 0.2910739365248988\n"
          ]
        }
      ]
    },
    {
      "cell_type": "markdown",
      "source": [
        "A good model should have low values of MSE, RMSE, and MAE. A high MSE or RMSE value indicates that the model's predictions have large deviations from the actual values. On the other hand, a high MAE value means that the model's predictions have high absolute errors. Thus I feel that this model is performing pretty decently."
      ],
      "metadata": {
        "id": "bTeE4XnigmvR"
      }
    }
  ]
}